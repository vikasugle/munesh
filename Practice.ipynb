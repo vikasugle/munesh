{
 "cells": [
  {
   "cell_type": "code",
   "execution_count": 1,
   "id": "5c12b00e",
   "metadata": {},
   "outputs": [
    {
     "name": "stdout",
     "output_type": "stream",
     "text": [
      "0\n",
      "1\n",
      "2\n",
      "3\n",
      "4\n"
     ]
    }
   ],
   "source": [
    "for i in range (5):\n",
    "    print(i)"
   ]
  },
  {
   "cell_type": "code",
   "execution_count": 7,
   "id": "f13739d1",
   "metadata": {},
   "outputs": [
    {
     "data": {
      "text/plain": [
       "list"
      ]
     },
     "execution_count": 7,
     "metadata": {},
     "output_type": "execute_result"
    }
   ],
   "source": [
    "list2 = [1,2,3,4]\n",
    "type(list2)"
   ]
  },
  {
   "cell_type": "code",
   "execution_count": 4,
   "id": "06cf00b7",
   "metadata": {},
   "outputs": [
    {
     "data": {
      "text/plain": [
       "tuple"
      ]
     },
     "execution_count": 4,
     "metadata": {},
     "output_type": "execute_result"
    }
   ],
   "source": [
    "list1 = (1,10,5,4)\n",
    "type(list1)"
   ]
  },
  {
   "cell_type": "code",
   "execution_count": 10,
   "id": "6b3cc729",
   "metadata": {},
   "outputs": [],
   "source": [
    "list2.sort()"
   ]
  },
  {
   "cell_type": "code",
   "execution_count": 17,
   "id": "7831278a",
   "metadata": {},
   "outputs": [
    {
     "name": "stdout",
     "output_type": "stream",
     "text": [
      "Var1 is=  a\n",
      "*\n",
      "%\n",
      "*\n",
      "%\n",
      "*\n",
      "%\n",
      "*\n",
      "%\n",
      "Var1 is=  b\n",
      "*\n",
      "%\n",
      "*\n",
      "%\n",
      "*\n",
      "%\n",
      "*\n",
      "%\n"
     ]
    }
   ],
   "source": [
    "list1 = ['a','b']\n",
    "for var1 in list1:\n",
    "    print('Var1 is= ',var1)\n",
    "    for var2 in range(4):\n",
    "        print('*')\n",
    "        for var3 in range (1):\n",
    "            print('%')\n",
    "    "
   ]
  },
  {
   "cell_type": "code",
   "execution_count": 2,
   "id": "0d37a638",
   "metadata": {},
   "outputs": [
    {
     "name": "stdout",
     "output_type": "stream",
     "text": [
      "val\n",
      "*  *  *  *  \n",
      "val\n",
      "*  *  *  *  \n",
      "val\n",
      "*  *  *  *  \n",
      "val\n",
      "*  *  *  *  \n"
     ]
    }
   ],
   "source": [
    "n = 5\n",
    "for i in range (1,n):\n",
    "    print('val')\n",
    "    for j in range (1,n):\n",
    "        print('*',end = '  ')\n",
    "    print()\n",
    "    "
   ]
  },
  {
   "cell_type": "code",
   "execution_count": 69,
   "id": "15063fa0",
   "metadata": {},
   "outputs": [
    {
     "data": {
      "text/plain": [
       "'\\x01'"
      ]
     },
     "execution_count": 69,
     "metadata": {},
     "output_type": "execute_result"
    }
   ],
   "source": [
    "chr(1)"
   ]
  },
  {
   "cell_type": "code",
   "execution_count": 86,
   "id": "da9ff980",
   "metadata": {},
   "outputs": [
    {
     "name": "stdout",
     "output_type": "stream",
     "text": [
      "Enter    \n",
      "1  \n",
      "Enter    \n",
      "1  2  \n",
      "Enter    \n",
      "1  2  3  \n",
      "Enter    \n",
      "1  2  3  4  \n",
      "Enter    \n",
      "1  2  3  4  5  \n",
      "Enter    \n",
      "1  2  3  4  5  6  \n",
      "Enter    \n",
      "1  2  3  4  5  6  7  \n",
      "Enter    \n",
      "1  2  3  4  5  6  7  8  \n",
      "Enter    \n",
      "1  2  3  4  5  6  7  8  9  \n",
      "Enter    \n",
      "1  2  3  4  5  6  7  8  9  10  \n"
     ]
    }
   ],
   "source": [
    "n = 11\n",
    "\n",
    "for i in range (1,n):\n",
    "    chr = 1\n",
    "    print(f'Enter ', '  ')\n",
    "    for j in range (i):\n",
    "        print(chr,end = '  ')\n",
    "        chr = chr + 1\n",
    "    print()"
   ]
  },
  {
   "cell_type": "code",
   "execution_count": 77,
   "id": "2c81d3b1",
   "metadata": {},
   "outputs": [
    {
     "data": {
      "text/plain": [
       "'a'"
      ]
     },
     "execution_count": 77,
     "metadata": {},
     "output_type": "execute_result"
    }
   ],
   "source": [
    "chr(97)"
   ]
  },
  {
   "cell_type": "code",
   "execution_count": 2,
   "id": "3e4ff990",
   "metadata": {},
   "outputs": [],
   "source": [
    "s1 = {'Mumbai','Pune','Delhi','Hyderabad'}\n",
    "s1.remove('Pune')"
   ]
  },
  {
   "cell_type": "code",
   "execution_count": 3,
   "id": "dc914d7d",
   "metadata": {},
   "outputs": [
    {
     "data": {
      "text/plain": [
       "{'Delhi', 'Hyderabad', 'Mumbai'}"
      ]
     },
     "execution_count": 3,
     "metadata": {},
     "output_type": "execute_result"
    }
   ],
   "source": [
    "s1"
   ]
  },
  {
   "cell_type": "code",
   "execution_count": 4,
   "id": "3a86938e",
   "metadata": {},
   "outputs": [],
   "source": [
    "s1.discard('Hyderabad')"
   ]
  },
  {
   "cell_type": "code",
   "execution_count": 5,
   "id": "8ec97448",
   "metadata": {},
   "outputs": [
    {
     "data": {
      "text/plain": [
       "{'Delhi', 'Hyderabad', 'Mumbai'}"
      ]
     },
     "execution_count": 5,
     "metadata": {},
     "output_type": "execute_result"
    }
   ],
   "source": [
    "s1"
   ]
  },
  {
   "cell_type": "code",
   "execution_count": 6,
   "id": "94d313dd",
   "metadata": {},
   "outputs": [],
   "source": [
    "s1.discard('Hyderabad')"
   ]
  },
  {
   "cell_type": "code",
   "execution_count": 7,
   "id": "4800e74c",
   "metadata": {},
   "outputs": [
    {
     "data": {
      "text/plain": [
       "{'Delhi', 'Mumbai'}"
      ]
     },
     "execution_count": 7,
     "metadata": {},
     "output_type": "execute_result"
    }
   ],
   "source": [
    "s1"
   ]
  },
  {
   "cell_type": "code",
   "execution_count": 9,
   "id": "47272593",
   "metadata": {},
   "outputs": [
    {
     "data": {
      "text/plain": [
       "'Delhi'"
      ]
     },
     "execution_count": 9,
     "metadata": {},
     "output_type": "execute_result"
    }
   ],
   "source": [
    "s1.pop()"
   ]
  },
  {
   "cell_type": "code",
   "execution_count": 10,
   "id": "21124bca",
   "metadata": {},
   "outputs": [
    {
     "data": {
      "text/plain": [
       "{'Mumbai'}"
      ]
     },
     "execution_count": 10,
     "metadata": {},
     "output_type": "execute_result"
    }
   ],
   "source": [
    "s1"
   ]
  },
  {
   "cell_type": "code",
   "execution_count": 11,
   "id": "ea429003",
   "metadata": {},
   "outputs": [
    {
     "data": {
      "text/plain": [
       "'Mumbai'"
      ]
     },
     "execution_count": 11,
     "metadata": {},
     "output_type": "execute_result"
    }
   ],
   "source": [
    "s1.pop()"
   ]
  },
  {
   "cell_type": "code",
   "execution_count": 12,
   "id": "5bd96c49",
   "metadata": {},
   "outputs": [
    {
     "data": {
      "text/plain": [
       "set()"
      ]
     },
     "execution_count": 12,
     "metadata": {},
     "output_type": "execute_result"
    }
   ],
   "source": [
    "s1"
   ]
  },
  {
   "cell_type": "code",
   "execution_count": 13,
   "id": "395e35e6",
   "metadata": {},
   "outputs": [
    {
     "data": {
      "text/plain": [
       "set"
      ]
     },
     "execution_count": 13,
     "metadata": {},
     "output_type": "execute_result"
    }
   ],
   "source": [
    "type(s1)"
   ]
  },
  {
   "cell_type": "code",
   "execution_count": 16,
   "id": "d83c4212",
   "metadata": {},
   "outputs": [
    {
     "data": {
      "text/plain": [
       "{'Delhi', 'Hyderabad', 'Mumbai', 'Pune', 'chennai'}"
      ]
     },
     "execution_count": 16,
     "metadata": {},
     "output_type": "execute_result"
    }
   ],
   "source": [
    "s1 = {'Mumbai','Pune','Delhi','Hyderabad'}\n",
    "s1.add('chennai')\n",
    "s1"
   ]
  },
  {
   "cell_type": "code",
   "execution_count": 18,
   "id": "5fcb1bd7",
   "metadata": {},
   "outputs": [
    {
     "data": {
      "text/plain": [
       "{'Delhi',\n",
       " 'Hyderabad',\n",
       " 'Mumbai',\n",
       " 'Pune',\n",
       " 'chennai',\n",
       " 'katraj',\n",
       " 'shivaji nagar',\n",
       " 'vadgaon'}"
      ]
     },
     "execution_count": 18,
     "metadata": {},
     "output_type": "execute_result"
    }
   ],
   "source": [
    "s2 = {'katraj','vadgaon','shivaji nagar'}\n",
    "s1.update(s2)\n",
    "s1"
   ]
  },
  {
   "cell_type": "code",
   "execution_count": 19,
   "id": "c0143c87",
   "metadata": {},
   "outputs": [
    {
     "data": {
      "text/plain": [
       "{'Hyderabad',\n",
       " 'Mumbai',\n",
       " 'Pune',\n",
       " 'chennai',\n",
       " 'katraj',\n",
       " 'shivaji nagar',\n",
       " 'vadgaon'}"
      ]
     },
     "execution_count": 19,
     "metadata": {},
     "output_type": "execute_result"
    }
   ],
   "source": [
    "s1.pop()\n",
    "s1"
   ]
  },
  {
   "cell_type": "code",
   "execution_count": 20,
   "id": "a2a56bf6",
   "metadata": {},
   "outputs": [
    {
     "data": {
      "text/plain": [
       "{'Hyderabad', 'Mumbai', 'Pune', 'chennai', 'katraj', 'shivaji nagar'}"
      ]
     },
     "execution_count": 20,
     "metadata": {},
     "output_type": "execute_result"
    }
   ],
   "source": [
    "s1.pop()\n",
    "s1"
   ]
  },
  {
   "cell_type": "code",
   "execution_count": 21,
   "id": "2adb6fc8",
   "metadata": {},
   "outputs": [
    {
     "ename": "TypeError",
     "evalue": "'set' object doesn't support item deletion",
     "output_type": "error",
     "traceback": [
      "\u001b[1;31m---------------------------------------------------------------------------\u001b[0m",
      "\u001b[1;31mTypeError\u001b[0m                                 Traceback (most recent call last)",
      "\u001b[1;32m<ipython-input-21-8f09e44c771f>\u001b[0m in \u001b[0;36m<module>\u001b[1;34m\u001b[0m\n\u001b[1;32m----> 1\u001b[1;33m \u001b[1;32mdel\u001b[0m \u001b[0ms1\u001b[0m\u001b[1;33m[\u001b[0m\u001b[1;36m1\u001b[0m\u001b[1;33m]\u001b[0m\u001b[1;33m\u001b[0m\u001b[1;33m\u001b[0m\u001b[0m\n\u001b[0m",
      "\u001b[1;31mTypeError\u001b[0m: 'set' object doesn't support item deletion"
     ]
    }
   ],
   "source": [
    "del s1[1]"
   ]
  },
  {
   "cell_type": "code",
   "execution_count": 22,
   "id": "b1493cf1",
   "metadata": {},
   "outputs": [],
   "source": [
    "s1.remove('Mumbai')"
   ]
  },
  {
   "cell_type": "code",
   "execution_count": 23,
   "id": "22f79f13",
   "metadata": {},
   "outputs": [
    {
     "data": {
      "text/plain": [
       "{'Hyderabad', 'Pune', 'chennai', 'katraj', 'shivaji nagar'}"
      ]
     },
     "execution_count": 23,
     "metadata": {},
     "output_type": "execute_result"
    }
   ],
   "source": [
    "s1\n"
   ]
  },
  {
   "cell_type": "code",
   "execution_count": 24,
   "id": "29fde2a4",
   "metadata": {},
   "outputs": [
    {
     "data": {
      "text/plain": [
       "dict"
      ]
     },
     "execution_count": 24,
     "metadata": {},
     "output_type": "execute_result"
    }
   ],
   "source": [
    "dict1 = {}\n",
    "type(dict1)"
   ]
  },
  {
   "cell_type": "code",
   "execution_count": 25,
   "id": "4636e2da",
   "metadata": {},
   "outputs": [
    {
     "data": {
      "text/plain": [
       "{'Hyderabad', 'Pune', 'chennai', 'katraj', 'shivaji nagar'}"
      ]
     },
     "execution_count": 25,
     "metadata": {},
     "output_type": "execute_result"
    }
   ],
   "source": [
    "s1"
   ]
  },
  {
   "cell_type": "code",
   "execution_count": 26,
   "id": "a0338307",
   "metadata": {},
   "outputs": [
    {
     "ename": "TypeError",
     "evalue": "'set' object doesn't support item deletion",
     "output_type": "error",
     "traceback": [
      "\u001b[1;31m---------------------------------------------------------------------------\u001b[0m",
      "\u001b[1;31mTypeError\u001b[0m                                 Traceback (most recent call last)",
      "\u001b[1;32m<ipython-input-26-63da6df6193e>\u001b[0m in \u001b[0;36m<module>\u001b[1;34m\u001b[0m\n\u001b[1;32m----> 1\u001b[1;33m \u001b[1;32mdel\u001b[0m \u001b[0ms1\u001b[0m\u001b[1;33m[\u001b[0m\u001b[1;36m2\u001b[0m\u001b[1;33m]\u001b[0m\u001b[1;33m\u001b[0m\u001b[1;33m\u001b[0m\u001b[0m\n\u001b[0m",
      "\u001b[1;31mTypeError\u001b[0m: 'set' object doesn't support item deletion"
     ]
    }
   ],
   "source": [
    "del s1[2]"
   ]
  },
  {
   "cell_type": "code",
   "execution_count": 27,
   "id": "29f2d4a1",
   "metadata": {},
   "outputs": [
    {
     "data": {
      "text/plain": [
       "{'Hyderabad', 'Pune', 'chennai', 'katraj', 'shivaji nagar'}"
      ]
     },
     "execution_count": 27,
     "metadata": {},
     "output_type": "execute_result"
    }
   ],
   "source": [
    "s1"
   ]
  },
  {
   "cell_type": "code",
   "execution_count": 28,
   "id": "58b20069",
   "metadata": {},
   "outputs": [],
   "source": [
    "s2 = {1,2,3,4,5,6}\n",
    "s1.update(s2)"
   ]
  },
  {
   "cell_type": "code",
   "execution_count": 29,
   "id": "967dc4b9",
   "metadata": {},
   "outputs": [
    {
     "data": {
      "text/plain": [
       "{1, 2, 3, 4, 5, 6, 'Hyderabad', 'Pune', 'chennai', 'katraj', 'shivaji nagar'}"
      ]
     },
     "execution_count": 29,
     "metadata": {},
     "output_type": "execute_result"
    }
   ],
   "source": [
    "s1"
   ]
  },
  {
   "cell_type": "code",
   "execution_count": 32,
   "id": "e609aeae",
   "metadata": {},
   "outputs": [
    {
     "name": "stdout",
     "output_type": "stream",
     "text": [
      "Set1 is  {1, 2, 3, 4, 5, 'Pune', 6, 'chennai', 'shivaji nagar', 'Hyderabad', 'katraj'}\n",
      "Set2 is  {1, 2, 3, 4, 5, 6, 'Pune', 'chennai', 'shivaji nagar', 'Hyderabad', 'katraj'}\n"
     ]
    }
   ],
   "source": [
    "s1 = {'Hyderabad', 'Pune', 'chennai', 'katraj', 'shivaji nagar'}\n",
    "s2 = {1,2,3,4,5,6}\n",
    "s1.update(s2)\n",
    "s2.update(s1)\n",
    "print('Set1 is ',s1)\n",
    "print('Set2 is ',s2)"
   ]
  },
  {
   "cell_type": "markdown",
   "id": "1e6d8a37",
   "metadata": {},
   "source": [
    "Union()"
   ]
  },
  {
   "cell_type": "code",
   "execution_count": 37,
   "id": "8b6db89d",
   "metadata": {},
   "outputs": [
    {
     "name": "stdout",
     "output_type": "stream",
     "text": [
      "s1 = {1, 2, 3, 4, 5, 6}\n",
      "s2 = {'c', 'f', 'a', 'e', 'b', 'd'}\n",
      "s3 = {1, 2, 3, 4, 5, 6, 'c', 'f', 'a', 'e', 'b', 'd'}\n"
     ]
    }
   ],
   "source": [
    "s1 = {1,2,3,4,5,6}\n",
    "s2 = {'a','b','c','d','e','f'}\n",
    "s3 = s1.union(s2)\n",
    "print('s1 =',s1)\n",
    "print('s2 =',s2)\n",
    "print('s3 =',s3)"
   ]
  },
  {
   "cell_type": "code",
   "execution_count": 39,
   "id": "6ab47725",
   "metadata": {},
   "outputs": [
    {
     "name": "stdout",
     "output_type": "stream",
     "text": [
      "s1 = {1, 2, 3, 4, 5, 6}\n",
      "s2 = {6, 'c', 'f', 'a', 'e', 'b', 'd'}\n",
      "s3 = {6}\n"
     ]
    }
   ],
   "source": [
    "s1 = {1,2,3,4,5,6}\n",
    "s2 = {'a','b','c','d','e','f',6}\n",
    "s3 = s1.intersection(s2)\n",
    "print('s1 =',s1)\n",
    "print('s2 =',s2)\n",
    "print('s3 =',s3)"
   ]
  },
  {
   "cell_type": "code",
   "execution_count": 40,
   "id": "1c6d660c",
   "metadata": {},
   "outputs": [
    {
     "name": "stdout",
     "output_type": "stream",
     "text": [
      "s1 = {1, 2, 3, 4, 5, 6}\n",
      "s2 = {6, 'c', 'f', 'a', 'e', 'b', 'd'}\n",
      "s3 = {1, 2, 3, 4, 5}\n"
     ]
    }
   ],
   "source": [
    "s1 = {1,2,3,4,5,6}\n",
    "s2 = {'a','b','c','d','e','f',6}\n",
    "s3 = s1.difference(s2)\n",
    "print('s1 =',s1)\n",
    "print('s2 =',s2)\n",
    "print('s3 =',s3)"
   ]
  },
  {
   "cell_type": "code",
   "execution_count": 42,
   "id": "9057210a",
   "metadata": {},
   "outputs": [
    {
     "name": "stdout",
     "output_type": "stream",
     "text": [
      "s1 = {1, 2, 3, 4, 5}\n",
      "s2 = {6, 'c', 'f', 'a', 'e', 'b', 'd'}\n",
      "s3 = None\n"
     ]
    }
   ],
   "source": [
    "s1 = {1,2,3,4,5,6}\n",
    "s2 = {'a','b','c','d','e','f',6}\n",
    "s3 = s1.difference_update(s2)\n",
    "print('s1 =',s1)\n",
    "print('s2 =',s2)\n",
    "print('s3 =',s3)"
   ]
  },
  {
   "cell_type": "code",
   "execution_count": 43,
   "id": "718b576d",
   "metadata": {},
   "outputs": [
    {
     "name": "stdout",
     "output_type": "stream",
     "text": [
      "s3 {'Pune'}\n"
     ]
    }
   ],
   "source": [
    "s1 = {'Mumbai','Pune','Delhi','Hyderabad'}\n",
    "s2 = {'katraj','vadgaon','shivaji nagar','Pune'}\n",
    "s3 = s1.intersection(s2)\n",
    "print ('s3',s3)"
   ]
  },
  {
   "cell_type": "code",
   "execution_count": 47,
   "id": "f279b1aa",
   "metadata": {},
   "outputs": [
    {
     "name": "stdout",
     "output_type": "stream",
     "text": [
      "s3 None\n"
     ]
    }
   ],
   "source": [
    "s1 = {'Mumbai','Pune','Delhi','Hyderabad'}\n",
    "s2 = {'katraj','vadgaon','shivaji nagar','Pune'}\n",
    "s3 = s1.intersection_update(s2)\n",
    "print ('s3',s3)\n"
   ]
  },
  {
   "cell_type": "code",
   "execution_count": 50,
   "id": "d56a8b91",
   "metadata": {},
   "outputs": [
    {
     "name": "stdout",
     "output_type": "stream",
     "text": [
      "b {1, 2, 3, 4, 5, 6}\n"
     ]
    }
   ],
   "source": [
    "a = {1,2,3,4,5,6}\n",
    "b = {7,8,9,10,11,12}\n",
    "b1 = a.c\n",
    "print ('b', b)"
   ]
  },
  {
   "cell_type": "code",
   "execution_count": 54,
   "id": "438e28aa",
   "metadata": {},
   "outputs": [
    {
     "data": {
      "text/plain": [
       "set"
      ]
     },
     "execution_count": 54,
     "metadata": {},
     "output_type": "execute_result"
    }
   ],
   "source": [
    "a = {1,2,3,4,5,6}\n",
    "b = {7,8,9,10,11,12}\n",
    "type(b)"
   ]
  },
  {
   "cell_type": "code",
   "execution_count": 57,
   "id": "472db9ab",
   "metadata": {},
   "outputs": [
    {
     "data": {
      "text/plain": [
       "12"
      ]
     },
     "execution_count": 57,
     "metadata": {},
     "output_type": "execute_result"
    }
   ],
   "source": [
    "max(b)"
   ]
  },
  {
   "cell_type": "code",
   "execution_count": 58,
   "id": "ee6c37d5",
   "metadata": {},
   "outputs": [
    {
     "data": {
      "text/plain": [
       "21"
      ]
     },
     "execution_count": 58,
     "metadata": {},
     "output_type": "execute_result"
    }
   ],
   "source": [
    "sum (a)"
   ]
  },
  {
   "cell_type": "code",
   "execution_count": 1,
   "id": "c8ea5cda",
   "metadata": {},
   "outputs": [
    {
     "data": {
      "text/plain": [
       "{'Player_Name2': 'Sachin', 'Age': '42', 'last_five score': '200,100,90,80,78'}"
      ]
     },
     "execution_count": 1,
     "metadata": {},
     "output_type": "execute_result"
    }
   ],
   "source": [
    "d1 = {'Player_Name2':'Sachin', 'Age':'42','last_five score':'200,100,90,80,78','Player_Name2':'Sachin'}\n",
    "d1"
   ]
  },
  {
   "cell_type": "code",
   "execution_count": 5,
   "id": "baff9ee8",
   "metadata": {},
   "outputs": [],
   "source": [
    "d1.get('Player name2')"
   ]
  },
  {
   "cell_type": "code",
   "execution_count": 6,
   "id": "2af53a74",
   "metadata": {},
   "outputs": [
    {
     "data": {
      "text/plain": [
       "dict_keys(['Player_Name2', 'Age', 'last_five score'])"
      ]
     },
     "execution_count": 6,
     "metadata": {},
     "output_type": "execute_result"
    }
   ],
   "source": [
    "d1.keys()"
   ]
  },
  {
   "cell_type": "code",
   "execution_count": 7,
   "id": "c3695309",
   "metadata": {},
   "outputs": [
    {
     "data": {
      "text/plain": [
       "dict_values(['Sachin', '42', '200,100,90,80,78'])"
      ]
     },
     "execution_count": 7,
     "metadata": {},
     "output_type": "execute_result"
    }
   ],
   "source": [
    "d1.values()"
   ]
  },
  {
   "cell_type": "code",
   "execution_count": 8,
   "id": "61e8bbd7",
   "metadata": {},
   "outputs": [
    {
     "data": {
      "text/plain": [
       "dict_items([('Player_Name2', 'Sachin'), ('Age', '42'), ('last_five score', '200,100,90,80,78')])"
      ]
     },
     "execution_count": 8,
     "metadata": {},
     "output_type": "execute_result"
    }
   ],
   "source": [
    "d1.items()"
   ]
  },
  {
   "cell_type": "code",
   "execution_count": 10,
   "id": "cd1cd10b",
   "metadata": {},
   "outputs": [
    {
     "name": "stdout",
     "output_type": "stream",
     "text": [
      "Keys are  Player_Name2\n",
      "Keys are  Age\n",
      "Keys are  last_five score\n"
     ]
    }
   ],
   "source": [
    "for keys in d1.keys():\n",
    "    print('Keys are ', keys)"
   ]
  },
  {
   "cell_type": "code",
   "execution_count": 12,
   "id": "8a36b72b",
   "metadata": {},
   "outputs": [
    {
     "name": "stdout",
     "output_type": "stream",
     "text": [
      "Values are  Sachin\n",
      "Values are  42\n",
      "Values are  200,100,90,80,78\n"
     ]
    }
   ],
   "source": [
    "for values in d1.values():\n",
    "    print('Values are ', values)"
   ]
  },
  {
   "cell_type": "code",
   "execution_count": 13,
   "id": "2e2a9b64",
   "metadata": {},
   "outputs": [
    {
     "data": {
      "text/plain": [
       "{'Player_Name2': 'Sachin', 'Age': '42', 'last_five score': '200,100,90,80,78'}"
      ]
     },
     "execution_count": 13,
     "metadata": {},
     "output_type": "execute_result"
    }
   ],
   "source": [
    "d1"
   ]
  },
  {
   "cell_type": "code",
   "execution_count": 17,
   "id": "5265c620",
   "metadata": {},
   "outputs": [],
   "source": [
    "d1['Age'] = '41'"
   ]
  },
  {
   "cell_type": "code",
   "execution_count": 15,
   "id": "092707df",
   "metadata": {},
   "outputs": [
    {
     "data": {
      "text/plain": [
       "{'Player_Name2': 'Sachin', 'Age': 41, 'last_five score': '200,100,90,80,78'}"
      ]
     },
     "execution_count": 15,
     "metadata": {},
     "output_type": "execute_result"
    }
   ],
   "source": [
    "d1"
   ]
  },
  {
   "cell_type": "code",
   "execution_count": 23,
   "id": "490aac11",
   "metadata": {},
   "outputs": [
    {
     "data": {
      "text/plain": [
       "{'Player_Name2': 'Sachin',\n",
       " 'Age': '41',\n",
       " 'last_five score': '200,100,90,80,78',\n",
       " 'High score': '200'}"
      ]
     },
     "execution_count": 23,
     "metadata": {},
     "output_type": "execute_result"
    }
   ],
   "source": [
    "d1 ['High score'] = '200'\n",
    "d1"
   ]
  },
  {
   "cell_type": "code",
   "execution_count": 25,
   "id": "cf0c350f",
   "metadata": {},
   "outputs": [
    {
     "data": {
      "text/plain": [
       "{'Player_Name2': 'Sachin',\n",
       " 'Age': '41',\n",
       " 'last_five score': '200,100,90,80,78',\n",
       " 'High score': '200',\n",
       " 'ID': '4444',\n",
       " 'Place': 'Mumbai'}"
      ]
     },
     "execution_count": 25,
     "metadata": {},
     "output_type": "execute_result"
    }
   ],
   "source": [
    "d2 = {'ID':'4444', 'Place':'Mumbai'}\n",
    "d1.update(d2)\n",
    "d1"
   ]
  },
  {
   "cell_type": "code",
   "execution_count": 35,
   "id": "3211941c",
   "metadata": {},
   "outputs": [
    {
     "data": {
      "text/plain": [
       "{'Player_Name2': 'Sachin',\n",
       " 'last_five score': '200,100,90,80,78',\n",
       " 'High score': '200',\n",
       " 'Place': 'Mumbai'}"
      ]
     },
     "execution_count": 35,
     "metadata": {},
     "output_type": "execute_result"
    }
   ],
   "source": []
  },
  {
   "cell_type": "code",
   "execution_count": 39,
   "id": "0d722a1f",
   "metadata": {},
   "outputs": [
    {
     "data": {
      "text/plain": [
       "{'Player_Name2': 'Sachin',\n",
       " 'last_five score': '200,100,90,80,78',\n",
       " 'High score': '200',\n",
       " 'Place': 'Mumbai'}"
      ]
     },
     "execution_count": 39,
     "metadata": {},
     "output_type": "execute_result"
    }
   ],
   "source": [
    "d1"
   ]
  },
  {
   "cell_type": "code",
   "execution_count": 40,
   "id": "22753eb9",
   "metadata": {},
   "outputs": [],
   "source": [
    "del d1['Place']"
   ]
  },
  {
   "cell_type": "code",
   "execution_count": 41,
   "id": "217526ed",
   "metadata": {},
   "outputs": [
    {
     "data": {
      "text/plain": [
       "{'Player_Name2': 'Sachin',\n",
       " 'last_five score': '200,100,90,80,78',\n",
       " 'High score': '200'}"
      ]
     },
     "execution_count": 41,
     "metadata": {},
     "output_type": "execute_result"
    }
   ],
   "source": [
    "d1"
   ]
  },
  {
   "cell_type": "code",
   "execution_count": 44,
   "id": "fa8aa962",
   "metadata": {},
   "outputs": [
    {
     "data": {
      "text/plain": [
       "('High score', '200')"
      ]
     },
     "execution_count": 44,
     "metadata": {},
     "output_type": "execute_result"
    }
   ],
   "source": [
    "d1.popitem()"
   ]
  },
  {
   "cell_type": "code",
   "execution_count": 77,
   "id": "4db457f0",
   "metadata": {},
   "outputs": [
    {
     "name": "stdout",
     "output_type": "stream",
     "text": [
      "square_dict   1\n",
      "square_dict   8\n",
      "square_dict   27\n",
      "square_dict   64\n",
      "square_dict   125\n",
      "square_dict   216\n",
      "square_dict   343\n",
      "square_dict   512\n",
      "square_dict   729\n"
     ]
    }
   ],
   "source": [
    "for i in range(1,10):\n",
    "    square_dict = i ** 3\n",
    "    print ('square_dict  ',square_dict)"
   ]
  },
  {
   "cell_type": "code",
   "execution_count": 4,
   "id": "f6d5c1f8",
   "metadata": {},
   "outputs": [
    {
     "name": "stdout",
     "output_type": "stream",
     "text": [
      "hello python\n",
      "we are learning python and data science\n",
      "Value of i =  15\n",
      "Value of i =  16\n",
      "Value of i =  17\n",
      "Value of i =  18\n",
      "Value of i =  19\n",
      "hello python\n",
      "we are learning python and data science\n",
      "Value of i =  15\n",
      "Value of i =  16\n",
      "Value of i =  17\n",
      "Value of i =  18\n",
      "Value of i =  19\n"
     ]
    }
   ],
   "source": [
    "def my_function():\n",
    "    print('hello python')\n",
    "    print('we are learning python and data science')\n",
    "    for i in range (15,20):\n",
    "        print('Value of i = ',i)\n",
    "        \n",
    "my_function()\n",
    "my_function()"
   ]
  },
  {
   "cell_type": "code",
   "execution_count": 5,
   "id": "4d7d7d40",
   "metadata": {},
   "outputs": [
    {
     "name": "stdout",
     "output_type": "stream",
     "text": [
      "Value of i =  15\n",
      "Value of i =  16\n",
      "Value of i =  17\n",
      "Value of i =  18\n",
      "Value of i =  19\n"
     ]
    }
   ],
   "source": [
    " for i in range (15,20):\n",
    "        print('Value of i = ',i)"
   ]
  },
  {
   "cell_type": "code",
   "execution_count": 6,
   "id": "4e16128c",
   "metadata": {},
   "outputs": [
    {
     "ename": "SyntaxError",
     "evalue": "invalid syntax (<ipython-input-6-561afd9e4806>, line 1)",
     "output_type": "error",
     "traceback": [
      "\u001b[1;36m  File \u001b[1;32m\"<ipython-input-6-561afd9e4806>\"\u001b[1;36m, line \u001b[1;32m1\u001b[0m\n\u001b[1;33m    def addition(list1)\u001b[0m\n\u001b[1;37m                       ^\u001b[0m\n\u001b[1;31mSyntaxError\u001b[0m\u001b[1;31m:\u001b[0m invalid syntax\n"
     ]
    }
   ],
   "source": [
    "def addition(list1)\n",
    "    print('Input list is ',list1)\n",
    "    add = 0\n",
    "    for num in list1:\n",
    "        add = add + num\n",
    "        print('Addition of list',list1)"
   ]
  },
  {
   "cell_type": "code",
   "execution_count": 13,
   "id": "38b54f05",
   "metadata": {},
   "outputs": [
    {
     "data": {
      "text/plain": [
       "(2, 4, 6, 8)"
      ]
     },
     "execution_count": 13,
     "metadata": {},
     "output_type": "execute_result"
    }
   ],
   "source": [
    "list1 = [1,2,3,4]\n",
    "list2 = [1,2,3,4]\n",
    "x = map(lambda x,y:x + y, list1,list2)\n",
    "tuple(x)"
   ]
  },
  {
   "cell_type": "code",
   "execution_count": 16,
   "id": "5fbc9f25",
   "metadata": {},
   "outputs": [
    {
     "data": {
      "text/plain": [
       "['vs', 'ih', 'kr', 'aa', 'sd']"
      ]
     },
     "execution_count": 16,
     "metadata": {},
     "output_type": "execute_result"
    }
   ],
   "source": [
    "str1 = 'vikas'\n",
    "str2 = 'shraddha'\n",
    "x = map(lambda x,y:x + y, str1,str2)\n",
    "list(x)"
   ]
  },
  {
   "cell_type": "code",
   "execution_count": 8,
   "id": "3002b8df",
   "metadata": {},
   "outputs": [
    {
     "data": {
      "text/plain": [
       "[1, 3, 5, 7, 9]"
      ]
     },
     "execution_count": 8,
     "metadata": {},
     "output_type": "execute_result"
    }
   ],
   "source": [
    "list(filter(lambda x: x %2 != 0, range(1,10) ))"
   ]
  },
  {
   "cell_type": "code",
   "execution_count": 45,
   "id": "42d1fb77",
   "metadata": {},
   "outputs": [
    {
     "name": "stdout",
     "output_type": "stream",
     "text": [
      "[3, 6, 9, 12, 15]\n"
     ]
    }
   ],
   "source": [
    "list1 = [1,3,5,7,9]\n",
    "list2 = [2,3,4,5,6]\n",
    "\n",
    "val = list(map(lambda a,b: a+b,list1,list2))\n",
    "print(val)"
   ]
  },
  {
   "cell_type": "code",
   "execution_count": 32,
   "id": "d3b705c1",
   "metadata": {},
   "outputs": [
    {
     "data": {
      "text/plain": [
       "[1, 4, 9, 16, 25, 36, 49, 64, 81, 100]"
      ]
     },
     "execution_count": 32,
     "metadata": {},
     "output_type": "execute_result"
    }
   ],
   "source": [
    "\n",
    "list(map(lambda x:x**2,range(1,11)))"
   ]
  },
  {
   "cell_type": "code",
   "execution_count": 46,
   "id": "317bd294",
   "metadata": {},
   "outputs": [
    {
     "data": {
      "text/plain": [
       "[1, 8, 27, 64, 125, 216, 343, 512, 729, 1000]"
      ]
     },
     "execution_count": 46,
     "metadata": {},
     "output_type": "execute_result"
    }
   ],
   "source": [
    "list(map(lambda a:a**3,range(1,11) ))\n"
   ]
  },
  {
   "cell_type": "code",
   "execution_count": 47,
   "id": "a4288ebc",
   "metadata": {},
   "outputs": [
    {
     "data": {
      "text/plain": [
       "[2, 4, 6, 8, 10]"
      ]
     },
     "execution_count": 47,
     "metadata": {},
     "output_type": "execute_result"
    }
   ],
   "source": [
    "list(filter(lambda a:a % 2 == 0,range(1,11)))"
   ]
  },
  {
   "cell_type": "code",
   "execution_count": 24,
   "id": "ea9666cb",
   "metadata": {},
   "outputs": [
    {
     "data": {
      "text/plain": [
       "14"
      ]
     },
     "execution_count": 24,
     "metadata": {},
     "output_type": "execute_result"
    }
   ],
   "source": [
    "#list= [2, 4, 6, 8, 10]\n",
    "sum(list)"
   ]
  },
  {
   "cell_type": "code",
   "execution_count": 5,
   "id": "5b8b2cf3",
   "metadata": {},
   "outputs": [
    {
     "name": "stdout",
     "output_type": "stream",
     "text": [
      "i 1\n",
      "i 2\n",
      "i 3\n",
      "i 4\n",
      "i 5\n",
      "i 6\n",
      "i 7\n",
      "i 8\n",
      "i 9\n",
      "i 10\n",
      "sum 55\n"
     ]
    }
   ],
   "source": [
    "sum = 0\n",
    "for i in range (1,11):\n",
    "    print('i',i)\n",
    "    sum = sum + i\n",
    "\n",
    "print('sum',sum)\n"
   ]
  },
  {
   "cell_type": "code",
   "execution_count": 9,
   "id": "523e0e5b",
   "metadata": {
    "scrolled": true
   },
   "outputs": [
    {
     "ename": "TypeError",
     "evalue": "'bool' object is not iterable",
     "output_type": "error",
     "traceback": [
      "\u001b[1;31m---------------------------------------------------------------------------\u001b[0m",
      "\u001b[1;31mTypeError\u001b[0m                                 Traceback (most recent call last)",
      "\u001b[1;32m<ipython-input-9-af79710f5ac2>\u001b[0m in \u001b[0;36m<module>\u001b[1;34m\u001b[0m\n\u001b[0;32m      1\u001b[0m \u001b[0ma\u001b[0m \u001b[1;33m=\u001b[0m \u001b[1;36m5\u001b[0m\u001b[1;33m\u001b[0m\u001b[1;33m\u001b[0m\u001b[0m\n\u001b[1;32m----> 2\u001b[1;33m \u001b[0mx\u001b[0m \u001b[1;33m=\u001b[0m \u001b[0mlist\u001b[0m\u001b[1;33m(\u001b[0m\u001b[0mmap\u001b[0m\u001b[1;33m(\u001b[0m\u001b[1;32mlambda\u001b[0m \u001b[0ma\u001b[0m\u001b[1;33m,\u001b[0m\u001b[0mi\u001b[0m\u001b[1;33m:\u001b[0m \u001b[0ma\u001b[0m\u001b[1;33m*\u001b[0m\u001b[0mi\u001b[0m\u001b[1;33m,\u001b[0m \u001b[0mi\u001b[0m \u001b[1;32min\u001b[0m \u001b[0mrange\u001b[0m\u001b[1;33m(\u001b[0m\u001b[1;36m1\u001b[0m\u001b[1;33m,\u001b[0m\u001b[1;36m11\u001b[0m\u001b[1;33m)\u001b[0m\u001b[1;33m)\u001b[0m\u001b[1;33m)\u001b[0m\u001b[1;33m\u001b[0m\u001b[1;33m\u001b[0m\u001b[0m\n\u001b[0m\u001b[0;32m      3\u001b[0m \u001b[0mprint\u001b[0m\u001b[1;33m(\u001b[0m\u001b[1;34m'x'\u001b[0m\u001b[1;33m)\u001b[0m\u001b[1;33m\u001b[0m\u001b[1;33m\u001b[0m\u001b[0m\n",
      "\u001b[1;31mTypeError\u001b[0m: 'bool' object is not iterable"
     ]
    }
   ],
   "source": [
    "a = 5\n",
    "x = list(map(lambda a: a*i, i in range(1,11)))\n",
    "print('x')"
   ]
  },
  {
   "cell_type": "code",
   "execution_count": 1,
   "id": "8b6e9a37",
   "metadata": {},
   "outputs": [
    {
     "name": "stdout",
     "output_type": "stream",
     "text": [
      "(5, 7, 9)\n"
     ]
    }
   ],
   "source": [
    "numbers1 = [1, 2, 3]\n",
    "type(numbers1)\n",
    "numbers1 = [1, 2, 3]\n",
    "  \n",
    "result = tuple((map(lambda x, y: x + y, numbers1, numbers2)))\n",
    "print(result)"
   ]
  },
  {
   "cell_type": "markdown",
   "id": "0a6d71b8",
   "metadata": {},
   "source": [
    "# Double all numbers using map and lambda"
   ]
  },
  {
   "cell_type": "code",
   "execution_count": 10,
   "id": "787c38cd",
   "metadata": {},
   "outputs": [
    {
     "data": {
      "text/plain": [
       "[2, 4, 6, 8]"
      ]
     },
     "execution_count": 10,
     "metadata": {},
     "output_type": "execute_result"
    }
   ],
   "source": [
    "numbers = [1, 2, 3, 4]\n",
    "list(map(lambda x: x + x, numbers))\n"
   ]
  },
  {
   "cell_type": "markdown",
   "id": "4043910b",
   "metadata": {},
   "source": [
    "# zip"
   ]
  },
  {
   "cell_type": "code",
   "execution_count": 12,
   "id": "caffde9e",
   "metadata": {},
   "outputs": [
    {
     "data": {
      "text/plain": [
       "{'vikas': 2, 'vikram': 3, 'Dinesh': 4}"
      ]
     },
     "execution_count": 12,
     "metadata": {},
     "output_type": "execute_result"
    }
   ],
   "source": [
    "list1 = ['vikas', 'vikram', 'Dinesh']\n",
    "list2 = [2,3,4]\n",
    "dict(zip(list1,list2))\n"
   ]
  },
  {
   "cell_type": "code",
   "execution_count": 15,
   "id": "9d1439ab",
   "metadata": {},
   "outputs": [
    {
     "name": "stdout",
     "output_type": "stream",
     "text": [
      "[1, 2, 3]\n",
      "[4, 5, 6]\n",
      "[7, 8, 9]\n",
      "[1, 2, 3, 4, 5, 6, 7, 8, 9]\n"
     ]
    }
   ],
   "source": [
    "l1 = [[1,2,3],[4,5,6],[7,8,9]]\n",
    "new_list =[]\n",
    "for i in l1:\n",
    "    print(i)\n",
    "    for n in i:\n",
    "        new_list.append(n)\n",
    "print(new_list)"
   ]
  },
  {
   "cell_type": "code",
   "execution_count": 24,
   "id": "30bed002",
   "metadata": {},
   "outputs": [
    {
     "name": "stdout",
     "output_type": "stream",
     "text": [
      "11\n",
      "22\n",
      "33\n",
      "b =  ['11', '22', '33']\n"
     ]
    }
   ],
   "source": [
    "l1 = [11,22,33]\n",
    "b =[]\n",
    "for i in l1:\n",
    "    a = str(i)\n",
    "    print(a)\n",
    "    b.append(a)\n",
    "    output = \"\".join(b)\n",
    "print('b = ',b)  "
   ]
  },
  {
   "cell_type": "code",
   "execution_count": 30,
   "id": "9cd8529f",
   "metadata": {},
   "outputs": [
    {
     "name": "stdout",
     "output_type": "stream",
     "text": [
      "['11', '22', '33']\n",
      "11 22 33\n"
     ]
    }
   ],
   "source": [
    "l1 = [11,22,33]\n",
    "b =[]\n",
    "for i in l1:\n",
    "    a = str(i)\n",
    "    b.append(a)\n",
    "output = ' '.join(b)\n",
    "print(b)\n",
    "print(output) "
   ]
  },
  {
   "cell_type": "code",
   "execution_count": 31,
   "id": "6d38330d",
   "metadata": {},
   "outputs": [
    {
     "data": {
      "text/plain": [
       "[1, 2, 3]"
      ]
     },
     "execution_count": 31,
     "metadata": {},
     "output_type": "execute_result"
    }
   ],
   "source": [
    "l1 = [1, 2, 3, 4]\n",
    "l1.pop()\n",
    "l1"
   ]
  },
  {
   "cell_type": "code",
   "execution_count": 32,
   "id": "e774b3be",
   "metadata": {},
   "outputs": [
    {
     "data": {
      "text/plain": [
       "[1, 3]"
      ]
     },
     "execution_count": 32,
     "metadata": {},
     "output_type": "execute_result"
    }
   ],
   "source": [
    "l1.pop(1)\n",
    "l1"
   ]
  },
  {
   "cell_type": "code",
   "execution_count": 33,
   "id": "e14f88b8",
   "metadata": {},
   "outputs": [
    {
     "data": {
      "text/plain": [
       "[1, 2, 4]"
      ]
     },
     "execution_count": 33,
     "metadata": {},
     "output_type": "execute_result"
    }
   ],
   "source": [
    "l1 = [1, 2, 3, 4]\n",
    "l1.remove(3)\n",
    "l1"
   ]
  },
  {
   "cell_type": "code",
   "execution_count": 45,
   "id": "b6a49091",
   "metadata": {},
   "outputs": [
    {
     "data": {
      "text/plain": [
       "1"
      ]
     },
     "execution_count": 45,
     "metadata": {},
     "output_type": "execute_result"
    }
   ],
   "source": [
    "a = [1,2,3,4]\n",
    "a[0]\n"
   ]
  },
  {
   "cell_type": "code",
   "execution_count": 46,
   "id": "bad9e2fd",
   "metadata": {},
   "outputs": [
    {
     "data": {
      "text/plain": [
       "[1, 2]"
      ]
     },
     "execution_count": 46,
     "metadata": {},
     "output_type": "execute_result"
    }
   ],
   "source": [
    "a[0:2]"
   ]
  },
  {
   "cell_type": "code",
   "execution_count": 48,
   "id": "4dac240d",
   "metadata": {},
   "outputs": [
    {
     "data": {
      "text/plain": [
       "[78, 80, 90, 100, 200]"
      ]
     },
     "execution_count": 48,
     "metadata": {},
     "output_type": "execute_result"
    }
   ],
   "source": [
    "l1 = [200,100,90,80,78]\n",
    "l1.sort()\n",
    "l1"
   ]
  },
  {
   "cell_type": "code",
   "execution_count": 50,
   "id": "b8ed5d0e",
   "metadata": {},
   "outputs": [
    {
     "data": {
      "text/plain": [
       "[78, 80, 90, 100, 200]"
      ]
     },
     "execution_count": 50,
     "metadata": {},
     "output_type": "execute_result"
    }
   ],
   "source": [
    "l1 = [200,100,90,80,78]\n",
    "l2 = sorted(l1)\n",
    "l2"
   ]
  },
  {
   "cell_type": "code",
   "execution_count": 51,
   "id": "09a0126d",
   "metadata": {},
   "outputs": [
    {
     "data": {
      "text/plain": [
       "[200, 100, 90, 80, 78]"
      ]
     },
     "execution_count": 51,
     "metadata": {},
     "output_type": "execute_result"
    }
   ],
   "source": [
    "s = [78, 80, 90, 100, 200]\n",
    "s.reverse()\n",
    "s"
   ]
  },
  {
   "cell_type": "code",
   "execution_count": 56,
   "id": "a2beada6",
   "metadata": {},
   "outputs": [
    {
     "data": {
      "text/plain": [
       "[200, 100, 90, 80, 78]"
      ]
     },
     "execution_count": 56,
     "metadata": {},
     "output_type": "execute_result"
    }
   ],
   "source": [
    "list1 = [78,80,90,100,200]\n",
    "list1[::-1]\n"
   ]
  },
  {
   "cell_type": "code",
   "execution_count": 58,
   "id": "8f8de92c",
   "metadata": {},
   "outputs": [
    {
     "data": {
      "text/plain": [
       "[200, 100, 90, 80, 78]"
      ]
     },
     "execution_count": 58,
     "metadata": {},
     "output_type": "execute_result"
    }
   ],
   "source": [
    "list1 = [78,80,90,100,200]\n",
    "list1.reverse()\n",
    "list1"
   ]
  },
  {
   "cell_type": "code",
   "execution_count": 77,
   "id": "d4e5ea68",
   "metadata": {},
   "outputs": [
    {
     "name": "stdout",
     "output_type": "stream",
     "text": [
      "3 2 1 "
     ]
    }
   ],
   "source": [
    "s = [1,2,3]\n",
    "for i in reversed(s):\n",
    "    print(i,end = \" \")\n",
    "  "
   ]
  },
  {
   "cell_type": "code",
   "execution_count": 65,
   "id": "cd9431ed",
   "metadata": {},
   "outputs": [
    {
     "name": "stdout",
     "output_type": "stream",
     "text": [
      "reversed list using reversed : \n",
      "China USA India "
     ]
    }
   ],
   "source": [
    "countries = ['India', 'USA', 'China']\n",
    "# Printing Elements in Reversed Order\n",
    "print(\"reversed list using reversed : \")\n",
    "for c in reversed(countries):\n",
    "    print(c,end=\" \")"
   ]
  },
  {
   "cell_type": "code",
   "execution_count": 21,
   "id": "efb400c6",
   "metadata": {},
   "outputs": [
    {
     "name": "stdout",
     "output_type": "stream",
     "text": [
      "val 1\n",
      "*  *  *  \n",
      "val 2\n",
      "*  *  \n",
      "val 3\n",
      "*  \n",
      "val 4\n",
      "\n"
     ]
    }
   ],
   "source": [
    "n = 5\n",
    "for i in range (1,n):\n",
    "    print('val',i)\n",
    "    for j in range (i,n-1):\n",
    "        print('*',end ='  ')\n",
    "    print()\n",
    "    "
   ]
  },
  {
   "cell_type": "code",
   "execution_count": 42,
   "id": "d2fb003f",
   "metadata": {},
   "outputs": [
    {
     "name": "stdout",
     "output_type": "stream",
     "text": [
      "h = [1, 4, 9, 16]\n",
      "j = [25, 36, 49, 64]\n"
     ]
    }
   ],
   "source": [
    "l1 = [1,2,3,4]\n",
    "l2 = [5,6,7,8]\n",
    "h=list(map(lambda x:x**2,l1))\n",
    "j=list(map(lambda y:y**2,l2))\n",
    "print('h =',h)\n",
    "print('j =',j)"
   ]
  },
  {
   "cell_type": "code",
   "execution_count": 44,
   "id": "e8132074",
   "metadata": {},
   "outputs": [
    {
     "data": {
      "text/plain": [
       "[2, 4, 6, 8, 10]"
      ]
     },
     "execution_count": 44,
     "metadata": {},
     "output_type": "execute_result"
    }
   ],
   "source": [
    "h=list(filter(lambda x:x%2==0,range(1,11)))\n",
    "h"
   ]
  },
  {
   "cell_type": "code",
   "execution_count": 10,
   "id": "23acfd4f",
   "metadata": {},
   "outputs": [
    {
     "name": "stdout",
     "output_type": "stream",
     "text": [
      "Enter the value of n = 10\n",
      "sum of first n number will be= 55\n"
     ]
    }
   ],
   "source": [
    "n= int(input('Enter the value of n = '))\n",
    "sum = 0\n",
    "for i in range(1,n+1):\n",
    "    sum = sum + i\n",
    "print('sum of first n number will be=',sum)"
   ]
  },
  {
   "cell_type": "code",
   "execution_count": 12,
   "id": "a7c9a8e5",
   "metadata": {},
   "outputs": [
    {
     "data": {
      "text/plain": [
       "1"
      ]
     },
     "execution_count": 12,
     "metadata": {},
     "output_type": "execute_result"
    }
   ],
   "source": [
    "l1 = [2, 4, 6, 8, 10]\n",
    "l1.count(2)"
   ]
  },
  {
   "cell_type": "code",
   "execution_count": 13,
   "id": "77731524",
   "metadata": {},
   "outputs": [
    {
     "data": {
      "text/plain": [
       "5"
      ]
     },
     "execution_count": 13,
     "metadata": {},
     "output_type": "execute_result"
    }
   ],
   "source": [
    "len(l1)"
   ]
  },
  {
   "cell_type": "code",
   "execution_count": 14,
   "id": "312e36fd",
   "metadata": {},
   "outputs": [
    {
     "data": {
      "text/plain": [
       "10"
      ]
     },
     "execution_count": 14,
     "metadata": {},
     "output_type": "execute_result"
    }
   ],
   "source": [
    "max(l1)"
   ]
  },
  {
   "cell_type": "code",
   "execution_count": 15,
   "id": "cbc61b76",
   "metadata": {},
   "outputs": [
    {
     "data": {
      "text/plain": [
       "2"
      ]
     },
     "execution_count": 15,
     "metadata": {},
     "output_type": "execute_result"
    }
   ],
   "source": [
    "min(l1)"
   ]
  },
  {
   "cell_type": "code",
   "execution_count": 3,
   "id": "6a1009b6",
   "metadata": {},
   "outputs": [],
   "source": [
    "import re"
   ]
  },
  {
   "cell_type": "code",
   "execution_count": 10,
   "id": "d35f9c2e",
   "metadata": {},
   "outputs": [
    {
     "data": {
      "text/plain": [
       "['9595246251', '8805282800']"
      ]
     },
     "execution_count": 10,
     "metadata": {},
     "output_type": "execute_result"
    }
   ],
   "source": [
    "import re\n",
    "text = \"\"\"my name is vikas ugle,my mobile number is 9595246251,8805282800 and mail id is vikasugle12@gmail.com\"\"\"\n",
    "mobile_num = re.findall('[0-9]{10}',text)\n",
    "mobile_num"
   ]
  },
  {
   "cell_type": "code",
   "execution_count": 2,
   "id": "9470e577",
   "metadata": {},
   "outputs": [
    {
     "data": {
      "text/plain": [
       "['vikasugle12@gmail.com', 'hr@gmail.com']"
      ]
     },
     "execution_count": 2,
     "metadata": {},
     "output_type": "execute_result"
    }
   ],
   "source": [
    "import re\n",
    "text = \"\"\"my name is vikas ugle,my mobile number is 9595246251,8805282800 and mail id is vikasugle12@gmail.com\n",
    "hr@gmail.com\"\"\"\n",
    "mail_id = re.findall('[a-z,0-2]{2,20}[@][a-z.]{5,15}',text)\n",
    "mail_id"
   ]
  },
  {
   "cell_type": "code",
   "execution_count": 3,
   "id": "5628ac11",
   "metadata": {},
   "outputs": [
    {
     "data": {
      "text/plain": [
       "['27/06/2021']"
      ]
     },
     "execution_count": 3,
     "metadata": {},
     "output_type": "execute_result"
    }
   ],
   "source": [
    "import re\n",
    "text = \"\"\"my name is vikas ugle,my mobile number is 9595246251,8805282800 and mail id is vikasugle12@gmail.com\n",
    "hr@gmail.com     27/06/2021,27-06-2021\"\"\"\n",
    "date = re.findall('[0-9]{2}/[0-9]{2}/[0-9]{4}',text)\n",
    "date"
   ]
  },
  {
   "cell_type": "code",
   "execution_count": 24,
   "id": "5769c60b",
   "metadata": {},
   "outputs": [
    {
     "data": {
      "text/plain": [
       "['vikasugle12@gmail.com',\n",
       " 'vikas.ugle@gmail.com',\n",
       " 'vikas_ugle@rediffmail.com',\n",
       " 'vikasugle@gmail.com']"
      ]
     },
     "execution_count": 24,
     "metadata": {},
     "output_type": "execute_result"
    }
   ],
   "source": [
    "import re\n",
    "text = \"\"\" 'vikasugle12@gmail.com','vikas.ugle@gmail.com','vikas_ugle@rediffmail.com','vikasugle@gmail.com' \"\"\"\n",
    "mail1 = re.findall('[a-z_.0-9]{5,40}[@][a-z.]{2,20}',text)\n",
    "mail1"
   ]
  },
  {
   "cell_type": "code",
   "execution_count": 22,
   "id": "a3d7b301",
   "metadata": {},
   "outputs": [
    {
     "data": {
      "text/plain": [
       "['vikasugle12@gmail.com',\n",
       " 'vikas.ugle@gmail.com',\n",
       " 'vikas_ugle@rediffmail.com',\n",
       " 'vikasugle@gmail.com']"
      ]
     },
     "execution_count": 22,
     "metadata": {},
     "output_type": "execute_result"
    }
   ],
   "source": [
    "import re\n",
    "text = \"\"\"vikasugle12@gmail.com,vikas.ugle@gmail.com,vikas_ugle@rediffmail.com,vikasugle@gmail.com\"\"\"\n",
    "mail2 = re.findall('[a-z_.0-2]{2,20}[@][a-z.]{5,15}',text)\n",
    "mail2"
   ]
  },
  {
   "cell_type": "code",
   "execution_count": 25,
   "id": "543116f5",
   "metadata": {},
   "outputs": [
    {
     "data": {
      "text/plain": [
       "['9595246251', '8805282800']"
      ]
     },
     "execution_count": 25,
     "metadata": {},
     "output_type": "execute_result"
    }
   ],
   "source": [
    "import re\n",
    "text = \"\"\"my name is vikas ugle,my mobile number is 9595246251,8805282800 and mail id is vikasugle12@gmail.com\"\"\"\n",
    "mobile_num = re.findall('\\d{10}',text)\n",
    "mobile_num"
   ]
  },
  {
   "cell_type": "code",
   "execution_count": 26,
   "id": "d5eafd10",
   "metadata": {},
   "outputs": [
    {
     "data": {
      "text/plain": [
       "['27/06/2021']"
      ]
     },
     "execution_count": 26,
     "metadata": {},
     "output_type": "execute_result"
    }
   ],
   "source": [
    "import re\n",
    "text = \"\"\"my name is vikas ugle,my mobile number is 9595246251,8805282800 and mail id is vikasugle12@gmail.com\n",
    "hr@gmail.com     27/06/2021,27-06-2021\"\"\"\n",
    "date = re.findall('\\d{2}[/]\\d{2}[/]\\d{4}',text)\n",
    "date"
   ]
  },
  {
   "cell_type": "code",
   "execution_count": 27,
   "id": "6c40dde0",
   "metadata": {},
   "outputs": [
    {
     "data": {
      "text/plain": [
       "['27/06/2021', '27-06-2021']"
      ]
     },
     "execution_count": 27,
     "metadata": {},
     "output_type": "execute_result"
    }
   ],
   "source": [
    "import re\n",
    "text = \"\"\"my name is vikas ugle,my mobile number is 9595246251,8805282800 and mail id is vikasugle12@gmail.com\n",
    "hr@gmail.com     27/06/2021,27-06-2021\"\"\"\n",
    "date = re.findall('\\d{2}[/-]\\d{2}[/-]\\d{4}',text)\n",
    "date"
   ]
  },
  {
   "cell_type": "code",
   "execution_count": 33,
   "id": "093435b8",
   "metadata": {},
   "outputs": [
    {
     "data": {
      "text/plain": [
       "['name',\n",
       " 'Vikas',\n",
       " 'Ugle,',\n",
       " 'mobil',\n",
       " 'numbe',\n",
       " 'mail',\n",
       " 'vikas',\n",
       " 'ugle',\n",
       " 'gmail',\n",
       " 'gmail']"
      ]
     },
     "execution_count": 33,
     "metadata": {},
     "output_type": "execute_result"
    }
   ],
   "source": [
    "import re\n",
    "text = \"\"\"my name is Vikas Ugle,my mobile number is 9595246251,8805282800 and mail id is vikasugle12@gmail.com\n",
    "hr@gmail.com     27/06/2021,27-06-2021\"\"\"\n",
    "name = re.findall('[a-z,A-Z]{4,5}',text)\n",
    "name"
   ]
  },
  {
   "cell_type": "code",
   "execution_count": 35,
   "id": "fa1b9868",
   "metadata": {},
   "outputs": [
    {
     "data": {
      "text/plain": [
       "['959524',\n",
       " '6251',\n",
       " '880528',\n",
       " '2800',\n",
       " '12',\n",
       " '27',\n",
       " '06',\n",
       " '2021',\n",
       " '27',\n",
       " '06',\n",
       " '2021']"
      ]
     },
     "execution_count": 35,
     "metadata": {},
     "output_type": "execute_result"
    }
   ],
   "source": [
    "import re\n",
    "text = \"\"\"my name is Vikas Ugle,my mobile number is 9595246251,8805282800 and mail id is vikasugle12@gmail.com\n",
    "hr@gmail.com     27/06/2021,27-06-2021\"\"\"\n",
    "name = re.findall('\\d{2,6}',text)\n",
    "name"
   ]
  },
  {
   "cell_type": "code",
   "execution_count": 43,
   "id": "ee292d12",
   "metadata": {},
   "outputs": [
    {
     "data": {
      "text/plain": [
       "['Vikas Ugle,', 'obile numbe']"
      ]
     },
     "execution_count": 43,
     "metadata": {},
     "output_type": "execute_result"
    }
   ],
   "source": [
    "import re\n",
    "text = \"\"\"my name is Vikas Ugle,my mobile number is 9595246251,8805282800 and mail id is vikasugle12@gmail.com\n",
    "hr@gmail.com     27/06/2021,27-06-2021\"\"\"\n",
    "name = re.findall('[a-z,A-z]{4,5}[ ][a-z,A-z]{4,5}',text)\n",
    "name"
   ]
  },
  {
   "cell_type": "code",
   "execution_count": 44,
   "id": "a9283c0d",
   "metadata": {},
   "outputs": [
    {
     "data": {
      "text/plain": [
       "[' ', ' ', ' ', ' ']"
      ]
     },
     "execution_count": 44,
     "metadata": {},
     "output_type": "execute_result"
    }
   ],
   "source": [
    "text = \"\"\"my name is Vikas Ugle\"\"\"\n",
    "space = re.findall('[ ]',text)\n",
    "space"
   ]
  },
  {
   "cell_type": "code",
   "execution_count": 46,
   "id": "8c61bb50",
   "metadata": {},
   "outputs": [
    {
     "data": {
      "text/plain": [
       "[' ', ' ', ' ', ' ']"
      ]
     },
     "execution_count": 46,
     "metadata": {},
     "output_type": "execute_result"
    }
   ],
   "source": [
    "text = \"\"\"my name is Vikas Ugle\"\"\"\n",
    "space = re.findall('\\s',text)\n",
    "space"
   ]
  },
  {
   "cell_type": "code",
   "execution_count": 47,
   "id": "67c5179a",
   "metadata": {},
   "outputs": [
    {
     "data": {
      "text/plain": [
       "['     ']"
      ]
     },
     "execution_count": 47,
     "metadata": {},
     "output_type": "execute_result"
    }
   ],
   "source": [
    "text = \"\"\"my name is Vikas     Ugle\"\"\"\n",
    "space = re.findall('\\s{5}',text)\n",
    "space"
   ]
  },
  {
   "cell_type": "code",
   "execution_count": 56,
   "id": "4a5598cf",
   "metadata": {},
   "outputs": [
    {
     "data": {
      "text/plain": [
       "['name', 'Vika', 'Ugal']"
      ]
     },
     "execution_count": 56,
     "metadata": {},
     "output_type": "execute_result"
    }
   ],
   "source": [
    "text = \"\"\"my name is Vikas     Ugale\"\"\"\n",
    "space = re.findall('\\S{4}',text)\n",
    "space"
   ]
  },
  {
   "cell_type": "code",
   "execution_count": 60,
   "id": "320bb86e",
   "metadata": {},
   "outputs": [
    {
     "data": {
      "text/plain": [
       "['9595246251', '8805282800', 'vikasugle1']"
      ]
     },
     "execution_count": 60,
     "metadata": {},
     "output_type": "execute_result"
    }
   ],
   "source": [
    "import re\n",
    "text = \"\"\"my name is Vikas Ugle,my mobile number is 9595246251,8805282800 and mail id is vikasugle12@gmail.com\n",
    "hr@gmail.com     27/06/2021,27-06-2021\"\"\"\n",
    "name = re.findall('\\w{10}',text)\n",
    "name"
   ]
  },
  {
   "cell_type": "code",
   "execution_count": 63,
   "id": "6582fe24",
   "metadata": {},
   "outputs": [
    {
     "data": {
      "text/plain": [
       "[' ', ' ', ' ', ' ', ' ', ' ', ' ', '@', ' ', '*']"
      ]
     },
     "execution_count": 63,
     "metadata": {},
     "output_type": "execute_result"
    }
   ],
   "source": [
    "import re\n",
    "text = \"\"\"my name is Vikas Ugle 9595246251  @ *\"\"\"\n",
    "words = re.findall('\\W{1}',text)\n",
    "words"
   ]
  },
  {
   "cell_type": "code",
   "execution_count": 65,
   "id": "88c6703b",
   "metadata": {},
   "outputs": [
    {
     "data": {
      "text/plain": [
       "['Vikas', '95952', '46251']"
      ]
     },
     "execution_count": 65,
     "metadata": {},
     "output_type": "execute_result"
    }
   ],
   "source": [
    "import re\n",
    "text = \"\"\"my name is Vikas Ugle 9595246251  @ *\"\"\"\n",
    "words = re.findall('\\w{5}',text)\n",
    "words"
   ]
  },
  {
   "cell_type": "code",
   "execution_count": 76,
   "id": "15e4b903",
   "metadata": {},
   "outputs": [
    {
     "data": {
      "text/plain": [
       "['9595246251']"
      ]
     },
     "execution_count": 76,
     "metadata": {},
     "output_type": "execute_result"
    }
   ],
   "source": [
    "import re\n",
    "text = \"\"\"my name is Vikas Ugle Mobile 9595246251 \"\"\"\n",
    "number = re.findall(r'\\b\\d{10}\\b',text)\n",
    "number"
   ]
  },
  {
   "cell_type": "code",
   "execution_count": 2,
   "id": "5b8f5661",
   "metadata": {},
   "outputs": [],
   "source": [
    "import numpy as np"
   ]
  },
  {
   "cell_type": "code",
   "execution_count": 7,
   "id": "3dcf3fd1",
   "metadata": {},
   "outputs": [
    {
     "data": {
      "text/plain": [
       "array([[1, 2, 3, 4, 5],\n",
       "       [5, 2, 6, 7, 8]])"
      ]
     },
     "execution_count": 7,
     "metadata": {},
     "output_type": "execute_result"
    }
   ],
   "source": [
    "array = np.array([[1,2,3,4,5],[5,2,6,7,8]])\n",
    "array"
   ]
  },
  {
   "cell_type": "code",
   "execution_count": 8,
   "id": "8786e89c",
   "metadata": {},
   "outputs": [
    {
     "data": {
      "text/plain": [
       "numpy.ndarray"
      ]
     },
     "execution_count": 8,
     "metadata": {},
     "output_type": "execute_result"
    }
   ],
   "source": [
    "type(array)"
   ]
  },
  {
   "cell_type": "code",
   "execution_count": 9,
   "id": "831071fd",
   "metadata": {},
   "outputs": [
    {
     "data": {
      "text/plain": [
       "1"
      ]
     },
     "execution_count": 9,
     "metadata": {},
     "output_type": "execute_result"
    }
   ],
   "source": [
    "array[0,0]"
   ]
  },
  {
   "cell_type": "code",
   "execution_count": 10,
   "id": "9ea9589a",
   "metadata": {},
   "outputs": [
    {
     "data": {
      "text/plain": [
       "2"
      ]
     },
     "execution_count": 10,
     "metadata": {},
     "output_type": "execute_result"
    }
   ],
   "source": [
    "array[0,1]"
   ]
  },
  {
   "cell_type": "code",
   "execution_count": 12,
   "id": "a4b54226",
   "metadata": {},
   "outputs": [
    {
     "data": {
      "text/plain": [
       "array([1. , 2. , 3. , 4. , 5.2])"
      ]
     },
     "execution_count": 12,
     "metadata": {},
     "output_type": "execute_result"
    }
   ],
   "source": [
    "arr1 = np.array([1,2,3,4,5.2],'float')\n",
    "arr1"
   ]
  },
  {
   "cell_type": "code",
   "execution_count": 13,
   "id": "621bf1aa",
   "metadata": {},
   "outputs": [
    {
     "data": {
      "text/plain": [
       "array([1, 2, 3, 4, 5])"
      ]
     },
     "execution_count": 13,
     "metadata": {},
     "output_type": "execute_result"
    }
   ],
   "source": [
    "arr1 = np.array([1,2,3,4,5.2],'int')\n",
    "arr1"
   ]
  },
  {
   "cell_type": "code",
   "execution_count": 14,
   "id": "85856cbb",
   "metadata": {},
   "outputs": [
    {
     "data": {
      "text/plain": [
       "array([1. +0.j, 2. +0.j, 3. +0.j, 4. +0.j, 5.2+0.j])"
      ]
     },
     "execution_count": 14,
     "metadata": {},
     "output_type": "execute_result"
    }
   ],
   "source": [
    "arr1 = np.array([1,2,3,4,5.2],'complex')\n",
    "arr1"
   ]
  },
  {
   "cell_type": "code",
   "execution_count": 17,
   "id": "aa78a114",
   "metadata": {},
   "outputs": [
    {
     "ename": "TypeError",
     "evalue": "can't convert complex to int",
     "output_type": "error",
     "traceback": [
      "\u001b[1;31m---------------------------------------------------------------------------\u001b[0m",
      "\u001b[1;31mTypeError\u001b[0m                                 Traceback (most recent call last)",
      "\u001b[1;32m<ipython-input-17-e8a98b6957e9>\u001b[0m in \u001b[0;36m<module>\u001b[1;34m\u001b[0m\n\u001b[1;32m----> 1\u001b[1;33m \u001b[0marr1\u001b[0m \u001b[1;33m=\u001b[0m \u001b[0mnp\u001b[0m\u001b[1;33m.\u001b[0m\u001b[0marray\u001b[0m\u001b[1;33m(\u001b[0m\u001b[1;33m[\u001b[0m\u001b[1;36m1\u001b[0m\u001b[1;33m+\u001b[0m\u001b[1;36m2j\u001b[0m\u001b[1;33m,\u001b[0m\u001b[1;36m2\u001b[0m\u001b[1;33m,\u001b[0m\u001b[1;36m3\u001b[0m\u001b[1;33m,\u001b[0m\u001b[1;36m4\u001b[0m\u001b[1;33m,\u001b[0m\u001b[1;36m5.2\u001b[0m\u001b[1;33m]\u001b[0m\u001b[1;33m,\u001b[0m\u001b[1;34m'int'\u001b[0m\u001b[1;33m)\u001b[0m\u001b[1;33m\u001b[0m\u001b[1;33m\u001b[0m\u001b[0m\n\u001b[0m\u001b[0;32m      2\u001b[0m \u001b[0marr1\u001b[0m\u001b[1;33m\u001b[0m\u001b[1;33m\u001b[0m\u001b[0m\n",
      "\u001b[1;31mTypeError\u001b[0m: can't convert complex to int"
     ]
    }
   ],
   "source": [
    "arr1 = np.array([1+2j,2,3,4,5.2],'int')\n",
    "arr1"
   ]
  },
  {
   "cell_type": "code",
   "execution_count": 18,
   "id": "60c46fff",
   "metadata": {},
   "outputs": [
    {
     "ename": "TypeError",
     "evalue": "can't convert complex to float",
     "output_type": "error",
     "traceback": [
      "\u001b[1;31m---------------------------------------------------------------------------\u001b[0m",
      "\u001b[1;31mTypeError\u001b[0m                                 Traceback (most recent call last)",
      "\u001b[1;32m<ipython-input-18-050c1f9ed9b3>\u001b[0m in \u001b[0;36m<module>\u001b[1;34m\u001b[0m\n\u001b[1;32m----> 1\u001b[1;33m \u001b[0marr1\u001b[0m \u001b[1;33m=\u001b[0m \u001b[0mnp\u001b[0m\u001b[1;33m.\u001b[0m\u001b[0marray\u001b[0m\u001b[1;33m(\u001b[0m\u001b[1;33m[\u001b[0m\u001b[1;36m1\u001b[0m\u001b[1;33m+\u001b[0m\u001b[1;36m2j\u001b[0m\u001b[1;33m,\u001b[0m\u001b[1;36m2\u001b[0m\u001b[1;33m,\u001b[0m\u001b[1;36m3\u001b[0m\u001b[1;33m,\u001b[0m\u001b[1;36m4\u001b[0m\u001b[1;33m,\u001b[0m\u001b[1;36m5.2\u001b[0m\u001b[1;33m]\u001b[0m\u001b[1;33m,\u001b[0m\u001b[1;34m'float'\u001b[0m\u001b[1;33m)\u001b[0m\u001b[1;33m\u001b[0m\u001b[1;33m\u001b[0m\u001b[0m\n\u001b[0m\u001b[0;32m      2\u001b[0m \u001b[0marr1\u001b[0m\u001b[1;33m\u001b[0m\u001b[1;33m\u001b[0m\u001b[0m\n",
      "\u001b[1;31mTypeError\u001b[0m: can't convert complex to float"
     ]
    }
   ],
   "source": [
    "arr1 = np.array([1+2j,2,3,4,5.2],'float')\n",
    "arr1"
   ]
  },
  {
   "cell_type": "code",
   "execution_count": 24,
   "id": "b90c3747",
   "metadata": {},
   "outputs": [
    {
     "data": {
      "text/plain": [
       "array([[1, 2, 3, 4, 5],\n",
       "       [5, 2, 6, 7, 8]])"
      ]
     },
     "execution_count": 24,
     "metadata": {},
     "output_type": "execute_result"
    }
   ],
   "source": [
    "array = np.array([[1,2,3,4,5],[5,2,6,7,8]])\n",
    "array"
   ]
  },
  {
   "cell_type": "code",
   "execution_count": 26,
   "id": "b7cdc68e",
   "metadata": {},
   "outputs": [
    {
     "data": {
      "text/plain": [
       "2"
      ]
     },
     "execution_count": 26,
     "metadata": {},
     "output_type": "execute_result"
    }
   ],
   "source": [
    "array = np.array([[1,2,3,4,5],[5,2,6,7,8]])\n",
    "array.ndim"
   ]
  },
  {
   "cell_type": "code",
   "execution_count": 27,
   "id": "480e903a",
   "metadata": {},
   "outputs": [
    {
     "name": "stdout",
     "output_type": "stream",
     "text": [
      "[[1 2 3 4 5]\n",
      " [9 4 5 8 7]\n",
      " [5 2 6 7 8]]\n",
      "Number of dimension are:      2\n"
     ]
    }
   ],
   "source": [
    "arr2 = np.array([[1,2,3,4,5],[9,4,5,8,7],[5,2,6,7,8]])\n",
    "print(arr2)\n",
    "print('Number of dimension are:     ',arr2.ndim)"
   ]
  },
  {
   "cell_type": "code",
   "execution_count": 30,
   "id": "e9856543",
   "metadata": {},
   "outputs": [
    {
     "name": "stdout",
     "output_type": "stream",
     "text": [
      "[[[1 2 3 4 5]\n",
      "  [9 4 5 8 7]\n",
      "  [5 2 6 7 8]]]\n",
      "Number of dimension are:  3\n"
     ]
    }
   ],
   "source": [
    "arr2 = np.array([[[1,2,3,4,5],[9,4,5,8,7],[5,2,6,7,8]]])\n",
    "print(arr2)\n",
    "print('Number of dimension are: ',arr2.ndim)"
   ]
  },
  {
   "cell_type": "code",
   "execution_count": 34,
   "id": "8af9a1b0",
   "metadata": {},
   "outputs": [
    {
     "name": "stdout",
     "output_type": "stream",
     "text": [
      "['1' '2' '3' '4' '5' 'a']\n"
     ]
    }
   ],
   "source": [
    "array5 = np.array([1,2,3,4,5,'a'])\n",
    "print(array5)"
   ]
  },
  {
   "cell_type": "code",
   "execution_count": 36,
   "id": "753d12fd",
   "metadata": {},
   "outputs": [
    {
     "name": "stdout",
     "output_type": "stream",
     "text": [
      "[1.  2.  3.  4.  5.2]\n"
     ]
    }
   ],
   "source": [
    "array5 = np.array([1,2,3,4,5.2])\n",
    "print(array5)"
   ]
  },
  {
   "cell_type": "code",
   "execution_count": 35,
   "id": "f862a024",
   "metadata": {},
   "outputs": [
    {
     "name": "stdout",
     "output_type": "stream",
     "text": [
      "['1' '2' '3' '4' '5.2' 'a']\n"
     ]
    }
   ],
   "source": [
    "array5 = np.array([1,2,3,4,5.2,'a'])\n",
    "print(array5)"
   ]
  },
  {
   "cell_type": "code",
   "execution_count": 37,
   "id": "f56cedeb",
   "metadata": {},
   "outputs": [
    {
     "name": "stdout",
     "output_type": "stream",
     "text": [
      "['1' '2' '3' '4' '5.2' 'a' '(5+2j)']\n"
     ]
    }
   ],
   "source": [
    "array5 = np.array([1,2,3,4,5.2,'a',5+2j])\n",
    "print(array5)"
   ]
  },
  {
   "cell_type": "code",
   "execution_count": 38,
   "id": "ff6bb3e7",
   "metadata": {},
   "outputs": [
    {
     "name": "stdout",
     "output_type": "stream",
     "text": [
      "[[1 2 3 4 5]\n",
      " [9 4 5 8 7]\n",
      " [5 2 6 7 8]]\n"
     ]
    },
    {
     "data": {
      "text/plain": [
       "9"
      ]
     },
     "execution_count": 38,
     "metadata": {},
     "output_type": "execute_result"
    }
   ],
   "source": [
    "arr2 = np.array([[1,2,3,4,5],[9,4,5,8,7],[5,2,6,7,8]])\n",
    "print(arr2)\n",
    "arr2[1,0]"
   ]
  },
  {
   "cell_type": "code",
   "execution_count": 39,
   "id": "492f3460",
   "metadata": {},
   "outputs": [
    {
     "name": "stdout",
     "output_type": "stream",
     "text": [
      "[[1 2 3 4 5]\n",
      " [9 4 5 8 7]\n",
      " [5 2 6 7 8]]\n"
     ]
    },
    {
     "data": {
      "text/plain": [
       "1"
      ]
     },
     "execution_count": 39,
     "metadata": {},
     "output_type": "execute_result"
    }
   ],
   "source": [
    "arr2 = np.array([[1,2,3,4,5],[9,4,5,8,7],[5,2,6,7,8]])\n",
    "print(arr2)\n",
    "arr2[0,0]"
   ]
  },
  {
   "cell_type": "code",
   "execution_count": 45,
   "id": "91cf7e48",
   "metadata": {},
   "outputs": [
    {
     "name": "stdout",
     "output_type": "stream",
     "text": [
      "[[[1 2 3 4 5]\n",
      "  [9 4 5 8 7]\n",
      "  [5 2 6 7 8]]]\n"
     ]
    },
    {
     "data": {
      "text/plain": [
       "4"
      ]
     },
     "execution_count": 45,
     "metadata": {},
     "output_type": "execute_result"
    }
   ],
   "source": [
    "arr2 = np.array([[[1,2,3,4,5],[9,4,5,8,7],[5,2,6,7,8]]])\n",
    "print(arr2)\n",
    "arr2[0,1,1]"
   ]
  },
  {
   "cell_type": "code",
   "execution_count": 54,
   "id": "4d54ebfa",
   "metadata": {},
   "outputs": [
    {
     "name": "stdout",
     "output_type": "stream",
     "text": [
      "[[1 2 3 4 5]\n",
      " [9 4 5 8 7]\n",
      " [5 2 6 7 8]]\n"
     ]
    },
    {
     "data": {
      "text/plain": [
       "array([5, 2, 6, 7, 8])"
      ]
     },
     "execution_count": 54,
     "metadata": {},
     "output_type": "execute_result"
    }
   ],
   "source": [
    "arr2 = np.array([[1,2,3,4,5],[9,4,5,8,7],[5,2,6,7,8]])\n",
    "print(arr2)\n",
    "arr2[2]"
   ]
  },
  {
   "cell_type": "code",
   "execution_count": 60,
   "id": "bb93cd1e",
   "metadata": {},
   "outputs": [
    {
     "data": {
      "text/plain": [
       "array([[1, 2],\n",
       "       [9, 4]])"
      ]
     },
     "execution_count": 60,
     "metadata": {},
     "output_type": "execute_result"
    }
   ],
   "source": [
    "arr2[:2,:2]"
   ]
  },
  {
   "cell_type": "code",
   "execution_count": 64,
   "id": "066c3656",
   "metadata": {},
   "outputs": [
    {
     "data": {
      "text/plain": [
       "array([[8, 7],\n",
       "       [7, 8]])"
      ]
     },
     "execution_count": 64,
     "metadata": {},
     "output_type": "execute_result"
    }
   ],
   "source": [
    "arr2[1:3,3:5]"
   ]
  },
  {
   "cell_type": "code",
   "execution_count": 65,
   "id": "4e8145da",
   "metadata": {},
   "outputs": [
    {
     "data": {
      "text/plain": [
       "array([[8, 7],\n",
       "       [7, 8]])"
      ]
     },
     "execution_count": 65,
     "metadata": {},
     "output_type": "execute_result"
    }
   ],
   "source": [
    "arr2[1:,3:]"
   ]
  },
  {
   "cell_type": "code",
   "execution_count": 66,
   "id": "353d7c4e",
   "metadata": {},
   "outputs": [
    {
     "name": "stdout",
     "output_type": "stream",
     "text": [
      "[[1 2 3 4 5]\n",
      " [9 4 5 8 7]\n",
      " [5 2 6 7 8]]\n"
     ]
    }
   ],
   "source": [
    "arr2 = np.array([[1,2,3,4,5],[9,4,5,8,7],[5,2,6,7,8]])\n",
    "print(arr2)"
   ]
  },
  {
   "cell_type": "code",
   "execution_count": 67,
   "id": "e4e870f5",
   "metadata": {},
   "outputs": [
    {
     "data": {
      "text/plain": [
       "array([[3, 4],\n",
       "       [5, 8]])"
      ]
     },
     "execution_count": 67,
     "metadata": {},
     "output_type": "execute_result"
    }
   ],
   "source": [
    "arr2[:2,2:4]"
   ]
  },
  {
   "cell_type": "code",
   "execution_count": 69,
   "id": "82bd4a15",
   "metadata": {},
   "outputs": [
    {
     "data": {
      "text/plain": [
       "(3, 5)"
      ]
     },
     "execution_count": 69,
     "metadata": {},
     "output_type": "execute_result"
    }
   ],
   "source": [
    "arr2.shape"
   ]
  },
  {
   "cell_type": "markdown",
   "id": "9761731d",
   "metadata": {},
   "source": [
    "#shape >> no of rows ,no of column"
   ]
  },
  {
   "cell_type": "code",
   "execution_count": 70,
   "id": "43a95518",
   "metadata": {},
   "outputs": [
    {
     "name": "stdout",
     "output_type": "stream",
     "text": [
      "[[1 2 3 4 5]\n",
      " [5 2 6 7 8]]\n"
     ]
    }
   ],
   "source": [
    "arr2 = np.array([[1,2,3,4,5],[5,2,6,7,8]])\n",
    "print(arr2)"
   ]
  },
  {
   "cell_type": "code",
   "execution_count": 71,
   "id": "60f12c7d",
   "metadata": {},
   "outputs": [
    {
     "data": {
      "text/plain": [
       "(2, 5)"
      ]
     },
     "execution_count": 71,
     "metadata": {},
     "output_type": "execute_result"
    }
   ],
   "source": [
    "arr2.shape"
   ]
  },
  {
   "cell_type": "code",
   "execution_count": 5,
   "id": "018687cb",
   "metadata": {},
   "outputs": [
    {
     "name": "stdout",
     "output_type": "stream",
     "text": [
      "[[0. 0. 0. 0. 0.]\n",
      " [0. 0. 0. 0. 0.]\n",
      " [0. 0. 0. 0. 0.]\n",
      " [0. 0. 0. 0. 0.]\n",
      " [0. 0. 0. 0. 0.]]\n"
     ]
    }
   ],
   "source": [
    "import numpy as np\n",
    "arr1 = np.zeros([5,5])\n",
    "print(arr1)"
   ]
  },
  {
   "cell_type": "code",
   "execution_count": 28,
   "id": "e6d3c6c0",
   "metadata": {},
   "outputs": [
    {
     "name": "stdout",
     "output_type": "stream",
     "text": [
      "[0. 0. 0. 0. 0. 0. 0. 0. 0. 0. 0. 0. 0. 0. 0. 0. 0. 0. 0. 0. 0. 0. 0. 0.\n",
      " 0. 0. 0. 0. 0. 0. 0. 0. 0. 0. 0. 0. 0. 0. 0. 0. 0. 0. 0. 0. 0. 0. 0. 0.\n",
      " 0. 0. 0. 0. 0. 0. 0. 0. 0. 0. 0. 0. 0. 0. 0. 0. 0. 0. 0. 0. 0. 0. 0. 0.\n",
      " 0. 0. 0. 0. 0. 0. 0. 0. 0. 0. 0. 0. 0. 0. 0. 0. 0. 0. 0. 0. 0. 0. 0. 0.\n",
      " 0. 0. 0. 0. 0. 0. 0. 0. 0. 0. 0. 0. 0. 0. 0. 0. 0. 0. 0. 0. 0. 0. 0. 0.\n",
      " 0. 0. 0. 0. 0. 0. 0. 0. 0. 0. 0. 0. 0. 0. 0. 0. 0. 0. 0. 0. 0. 0. 0. 0.\n",
      " 0. 0. 0. 0. 0. 0. 0. 0. 0. 0. 0. 0. 0. 0. 0. 0. 0. 0. 0. 0. 0. 0. 0. 0.\n",
      " 0. 0. 0. 0. 0. 0. 0. 0. 0. 0. 0. 0. 0. 0. 0. 0. 0. 0. 0. 0. 0. 0. 0. 0.\n",
      " 0. 0. 0. 0. 0. 0. 0. 0. 0. 0. 0. 0. 0. 0. 0. 0. 0. 0. 0. 0. 0. 0. 0. 0.\n",
      " 0. 0. 0. 0. 0. 0. 0. 0. 0. 0. 0. 0. 0. 0. 0. 0. 0. 0. 0. 0. 0. 0. 0. 0.\n",
      " 0. 0. 0. 0. 0. 0. 0. 0. 0. 0.]\n"
     ]
    }
   ],
   "source": [
    "import numpy as np\n",
    "arr2 = np.zeros(250)\n",
    "print(arr2)"
   ]
  },
  {
   "cell_type": "code",
   "execution_count": 27,
   "id": "cd490835",
   "metadata": {},
   "outputs": [],
   "source": [
    "import pandas as pd\n",
    "df = pd.DataFrame(arr2)\n",
    "df.to_csv('zeros.csv') "
   ]
  },
  {
   "cell_type": "code",
   "execution_count": 29,
   "id": "49e14fc7",
   "metadata": {},
   "outputs": [
    {
     "name": "stdout",
     "output_type": "stream",
     "text": [
      "[0. 0. 0. 0. 0. 0. 0. 0. 0. 0. 0. 0. 0. 0. 0. 0. 0. 0. 0. 0. 0. 0. 0. 0.\n",
      " 0. 0. 0. 0. 0. 0. 0. 0. 0. 0. 0. 0. 0. 0. 0. 0. 0. 0. 0. 0. 0. 0. 0. 0.\n",
      " 0. 0. 0. 0. 0. 0. 0. 0. 0. 0. 0. 0. 0. 0. 0. 0. 0. 0. 0. 0. 0. 0. 0. 0.\n",
      " 0. 0. 0. 0. 0. 0. 0. 0. 0. 0. 0. 0. 0. 0. 0. 0. 0. 0. 0. 0. 0. 0. 0. 0.\n",
      " 0. 0. 0. 0. 0. 0. 0. 0. 0. 0. 0. 0. 0. 0. 0. 0. 0. 0. 0. 0. 0. 0. 0. 0.\n",
      " 0. 0. 0. 0. 0. 0. 0. 0. 0. 0. 0. 0. 0. 0. 0. 0. 0. 0. 0. 0. 0. 0. 0. 0.\n",
      " 0. 0. 0. 0. 0. 0. 0. 0. 0. 0. 0. 0. 0. 0. 0. 0. 0. 0. 0. 0. 0. 0. 0. 0.\n",
      " 0. 0. 0. 0. 0. 0. 0. 0. 0. 0. 0. 0. 0. 0. 0. 0. 0. 0. 0. 0. 0. 0. 0. 0.\n",
      " 0. 0. 0. 0. 0. 0. 0. 0. 0. 0. 0. 0. 0. 0. 0. 0. 0. 0. 0. 0. 0. 0. 0. 0.\n",
      " 0. 0. 0. 0. 0. 0. 0. 0. 0. 0. 0. 0. 0. 0. 0. 0. 0. 0. 0. 0. 0. 0. 0. 0.\n",
      " 0. 0. 0. 0. 0. 0. 0. 0. 0. 0. 0. 0. 0. 0. 0. 0. 0. 0. 0. 0. 0. 0. 0. 0.\n",
      " 0. 0. 0. 0. 0. 0. 0. 0. 0. 0. 0. 0. 0. 0. 0. 0. 0. 0. 0. 0. 0. 0. 0. 0.\n",
      " 0. 0. 0. 0. 0. 0. 0. 0. 0. 0. 0. 0. 0. 0. 0. 0. 0. 0. 0. 0. 0. 0. 0. 0.\n",
      " 0. 0. 0. 0. 0. 0. 0. 0. 0. 0. 0. 0. 0. 0. 0. 0. 0. 0. 0. 0. 0. 0. 0. 0.\n",
      " 0. 0. 0. 0. 0. 0. 0. 0. 0. 0. 0. 0. 0. 0.]\n"
     ]
    }
   ],
   "source": [
    "import numpy as np\n",
    "arr2 = np.zeros(350)\n",
    "print(arr2)"
   ]
  },
  {
   "cell_type": "code",
   "execution_count": 39,
   "id": "d0ad370b",
   "metadata": {},
   "outputs": [
    {
     "data": {
      "text/html": [
       "<div>\n",
       "<style scoped>\n",
       "    .dataframe tbody tr th:only-of-type {\n",
       "        vertical-align: middle;\n",
       "    }\n",
       "\n",
       "    .dataframe tbody tr th {\n",
       "        vertical-align: top;\n",
       "    }\n",
       "\n",
       "    .dataframe thead th {\n",
       "        text-align: right;\n",
       "    }\n",
       "</style>\n",
       "<table border=\"1\" class=\"dataframe\">\n",
       "  <thead>\n",
       "    <tr style=\"text-align: right;\">\n",
       "      <th></th>\n",
       "      <th>0</th>\n",
       "    </tr>\n",
       "  </thead>\n",
       "  <tbody>\n",
       "    <tr>\n",
       "      <th>0</th>\n",
       "      <td>0.0</td>\n",
       "    </tr>\n",
       "    <tr>\n",
       "      <th>1</th>\n",
       "      <td>0.0</td>\n",
       "    </tr>\n",
       "    <tr>\n",
       "      <th>2</th>\n",
       "      <td>0.0</td>\n",
       "    </tr>\n",
       "    <tr>\n",
       "      <th>3</th>\n",
       "      <td>0.0</td>\n",
       "    </tr>\n",
       "    <tr>\n",
       "      <th>4</th>\n",
       "      <td>0.0</td>\n",
       "    </tr>\n",
       "    <tr>\n",
       "      <th>...</th>\n",
       "      <td>...</td>\n",
       "    </tr>\n",
       "    <tr>\n",
       "      <th>345</th>\n",
       "      <td>0.0</td>\n",
       "    </tr>\n",
       "    <tr>\n",
       "      <th>346</th>\n",
       "      <td>0.0</td>\n",
       "    </tr>\n",
       "    <tr>\n",
       "      <th>347</th>\n",
       "      <td>0.0</td>\n",
       "    </tr>\n",
       "    <tr>\n",
       "      <th>348</th>\n",
       "      <td>0.0</td>\n",
       "    </tr>\n",
       "    <tr>\n",
       "      <th>349</th>\n",
       "      <td>0.0</td>\n",
       "    </tr>\n",
       "  </tbody>\n",
       "</table>\n",
       "<p>350 rows × 1 columns</p>\n",
       "</div>"
      ],
      "text/plain": [
       "       0\n",
       "0    0.0\n",
       "1    0.0\n",
       "2    0.0\n",
       "3    0.0\n",
       "4    0.0\n",
       "..   ...\n",
       "345  0.0\n",
       "346  0.0\n",
       "347  0.0\n",
       "348  0.0\n",
       "349  0.0\n",
       "\n",
       "[350 rows x 1 columns]"
      ]
     },
     "execution_count": 39,
     "metadata": {},
     "output_type": "execute_result"
    }
   ],
   "source": [
    "import pandas as pd\n",
    "df2 = pd.DataFrame(arr2)\n",
    "df2.to_csv('zeros.csv') \n",
    "df2"
   ]
  },
  {
   "cell_type": "code",
   "execution_count": 35,
   "id": "3ea80042",
   "metadata": {},
   "outputs": [
    {
     "name": "stdout",
     "output_type": "stream",
     "text": [
      "[1. 1. 1. 1. 1.]\n"
     ]
    }
   ],
   "source": [
    "import numpy as np\n",
    "arr1 = np.ones(5)\n",
    "print(arr1)"
   ]
  },
  {
   "cell_type": "code",
   "execution_count": 37,
   "id": "18a838f5",
   "metadata": {},
   "outputs": [
    {
     "data": {
      "text/html": [
       "<div>\n",
       "<style scoped>\n",
       "    .dataframe tbody tr th:only-of-type {\n",
       "        vertical-align: middle;\n",
       "    }\n",
       "\n",
       "    .dataframe tbody tr th {\n",
       "        vertical-align: top;\n",
       "    }\n",
       "\n",
       "    .dataframe thead th {\n",
       "        text-align: right;\n",
       "    }\n",
       "</style>\n",
       "<table border=\"1\" class=\"dataframe\">\n",
       "  <thead>\n",
       "    <tr style=\"text-align: right;\">\n",
       "      <th></th>\n",
       "      <th>0</th>\n",
       "      <th>1</th>\n",
       "      <th>2</th>\n",
       "      <th>3</th>\n",
       "      <th>4</th>\n",
       "      <th>5</th>\n",
       "      <th>6</th>\n",
       "      <th>7</th>\n",
       "    </tr>\n",
       "  </thead>\n",
       "  <tbody>\n",
       "    <tr>\n",
       "      <th>0</th>\n",
       "      <td>1</td>\n",
       "      <td>1</td>\n",
       "      <td>1</td>\n",
       "      <td>1</td>\n",
       "      <td>1</td>\n",
       "      <td>1</td>\n",
       "      <td>1</td>\n",
       "      <td>1</td>\n",
       "    </tr>\n",
       "    <tr>\n",
       "      <th>1</th>\n",
       "      <td>1</td>\n",
       "      <td>1</td>\n",
       "      <td>1</td>\n",
       "      <td>1</td>\n",
       "      <td>1</td>\n",
       "      <td>1</td>\n",
       "      <td>1</td>\n",
       "      <td>1</td>\n",
       "    </tr>\n",
       "    <tr>\n",
       "      <th>2</th>\n",
       "      <td>1</td>\n",
       "      <td>1</td>\n",
       "      <td>1</td>\n",
       "      <td>1</td>\n",
       "      <td>1</td>\n",
       "      <td>1</td>\n",
       "      <td>1</td>\n",
       "      <td>1</td>\n",
       "    </tr>\n",
       "    <tr>\n",
       "      <th>3</th>\n",
       "      <td>1</td>\n",
       "      <td>1</td>\n",
       "      <td>1</td>\n",
       "      <td>1</td>\n",
       "      <td>1</td>\n",
       "      <td>1</td>\n",
       "      <td>1</td>\n",
       "      <td>1</td>\n",
       "    </tr>\n",
       "    <tr>\n",
       "      <th>4</th>\n",
       "      <td>1</td>\n",
       "      <td>1</td>\n",
       "      <td>1</td>\n",
       "      <td>1</td>\n",
       "      <td>1</td>\n",
       "      <td>1</td>\n",
       "      <td>1</td>\n",
       "      <td>1</td>\n",
       "    </tr>\n",
       "    <tr>\n",
       "      <th>5</th>\n",
       "      <td>1</td>\n",
       "      <td>1</td>\n",
       "      <td>1</td>\n",
       "      <td>1</td>\n",
       "      <td>1</td>\n",
       "      <td>1</td>\n",
       "      <td>1</td>\n",
       "      <td>1</td>\n",
       "    </tr>\n",
       "    <tr>\n",
       "      <th>6</th>\n",
       "      <td>1</td>\n",
       "      <td>1</td>\n",
       "      <td>1</td>\n",
       "      <td>1</td>\n",
       "      <td>1</td>\n",
       "      <td>1</td>\n",
       "      <td>1</td>\n",
       "      <td>1</td>\n",
       "    </tr>\n",
       "  </tbody>\n",
       "</table>\n",
       "</div>"
      ],
      "text/plain": [
       "   0  1  2  3  4  5  6  7\n",
       "0  1  1  1  1  1  1  1  1\n",
       "1  1  1  1  1  1  1  1  1\n",
       "2  1  1  1  1  1  1  1  1\n",
       "3  1  1  1  1  1  1  1  1\n",
       "4  1  1  1  1  1  1  1  1\n",
       "5  1  1  1  1  1  1  1  1\n",
       "6  1  1  1  1  1  1  1  1"
      ]
     },
     "execution_count": 37,
     "metadata": {},
     "output_type": "execute_result"
    }
   ],
   "source": [
    "arr1 = np.ones([7,8],'int')\n",
    "df1 = pd.DataFrame(arr1)\n",
    "df1"
   ]
  },
  {
   "cell_type": "code",
   "execution_count": 40,
   "id": "ad6cb9ff",
   "metadata": {},
   "outputs": [],
   "source": [
    "arr1 = np.ones([7,8],'int')\n",
    "df1 = pd.DataFrame(arr1)\n",
    "df1.to_csv('ones.csv') "
   ]
  },
  {
   "cell_type": "code",
   "execution_count": 11,
   "id": "9f2d16a8",
   "metadata": {},
   "outputs": [
    {
     "data": {
      "text/plain": [
       "array([1, 2, 3, 4])"
      ]
     },
     "execution_count": 11,
     "metadata": {},
     "output_type": "execute_result"
    }
   ],
   "source": [
    "import numpy as np\n",
    "arr1 = np.arange(1,5,1)\n",
    "arr1"
   ]
  },
  {
   "cell_type": "code",
   "execution_count": 14,
   "id": "4cc1ed1e",
   "metadata": {},
   "outputs": [
    {
     "data": {
      "text/plain": [
       "array([1, 4, 7])"
      ]
     },
     "execution_count": 14,
     "metadata": {},
     "output_type": "execute_result"
    }
   ],
   "source": [
    "import numpy as np\n",
    "arr1 = np.arange(1,10,3)\n",
    "arr1"
   ]
  },
  {
   "cell_type": "code",
   "execution_count": 18,
   "id": "5cf8748f",
   "metadata": {},
   "outputs": [
    {
     "data": {
      "text/plain": [
       "array([10.        , 10.4040404 , 10.80808081, 11.21212121, 11.61616162,\n",
       "       12.02020202, 12.42424242, 12.82828283, 13.23232323, 13.63636364,\n",
       "       14.04040404, 14.44444444, 14.84848485, 15.25252525, 15.65656566,\n",
       "       16.06060606, 16.46464646, 16.86868687, 17.27272727, 17.67676768,\n",
       "       18.08080808, 18.48484848, 18.88888889, 19.29292929, 19.6969697 ,\n",
       "       20.1010101 , 20.50505051, 20.90909091, 21.31313131, 21.71717172,\n",
       "       22.12121212, 22.52525253, 22.92929293, 23.33333333, 23.73737374,\n",
       "       24.14141414, 24.54545455, 24.94949495, 25.35353535, 25.75757576,\n",
       "       26.16161616, 26.56565657, 26.96969697, 27.37373737, 27.77777778,\n",
       "       28.18181818, 28.58585859, 28.98989899, 29.39393939, 29.7979798 ,\n",
       "       30.2020202 , 30.60606061, 31.01010101, 31.41414141, 31.81818182,\n",
       "       32.22222222, 32.62626263, 33.03030303, 33.43434343, 33.83838384,\n",
       "       34.24242424, 34.64646465, 35.05050505, 35.45454545, 35.85858586,\n",
       "       36.26262626, 36.66666667, 37.07070707, 37.47474747, 37.87878788,\n",
       "       38.28282828, 38.68686869, 39.09090909, 39.49494949, 39.8989899 ,\n",
       "       40.3030303 , 40.70707071, 41.11111111, 41.51515152, 41.91919192,\n",
       "       42.32323232, 42.72727273, 43.13131313, 43.53535354, 43.93939394,\n",
       "       44.34343434, 44.74747475, 45.15151515, 45.55555556, 45.95959596,\n",
       "       46.36363636, 46.76767677, 47.17171717, 47.57575758, 47.97979798,\n",
       "       48.38383838, 48.78787879, 49.19191919, 49.5959596 , 50.        ])"
      ]
     },
     "execution_count": 18,
     "metadata": {},
     "output_type": "execute_result"
    }
   ],
   "source": [
    "arr1 = np.linspace(10,50,num=100)\n",
    "arr1"
   ]
  },
  {
   "cell_type": "code",
   "execution_count": 28,
   "id": "0eb20c88",
   "metadata": {},
   "outputs": [
    {
     "ename": "ValueError",
     "evalue": "arrays must all be same length",
     "output_type": "error",
     "traceback": [
      "\u001b[1;31m---------------------------------------------------------------------------\u001b[0m",
      "\u001b[1;31mValueError\u001b[0m                                Traceback (most recent call last)",
      "\u001b[1;32m<ipython-input-28-199b29576f9a>\u001b[0m in \u001b[0;36m<module>\u001b[1;34m\u001b[0m\n\u001b[0;32m      3\u001b[0m         \u001b[1;34m'arange'\u001b[0m\u001b[1;33m:\u001b[0m \u001b[0mnp\u001b[0m\u001b[1;33m.\u001b[0m\u001b[0marange\u001b[0m\u001b[1;33m(\u001b[0m\u001b[1;36m11\u001b[0m\u001b[1;33m,\u001b[0m\u001b[1;36m21\u001b[0m\u001b[1;33m)\u001b[0m\u001b[1;33m,\u001b[0m\u001b[1;33m\u001b[0m\u001b[1;33m\u001b[0m\u001b[0m\n\u001b[0;32m      4\u001b[0m         'linspace': np.linspace(11,60)}\n\u001b[1;32m----> 5\u001b[1;33m \u001b[0mdf\u001b[0m \u001b[1;33m=\u001b[0m \u001b[0mpd\u001b[0m\u001b[1;33m.\u001b[0m\u001b[0mDataFrame\u001b[0m\u001b[1;33m(\u001b[0m\u001b[0mdict1\u001b[0m\u001b[1;33m)\u001b[0m\u001b[1;33m\u001b[0m\u001b[1;33m\u001b[0m\u001b[0m\n\u001b[0m\u001b[0;32m      6\u001b[0m \u001b[0mdf\u001b[0m\u001b[1;33m\u001b[0m\u001b[1;33m\u001b[0m\u001b[0m\n",
      "\u001b[1;32mC:\\Anaconda\\lib\\site-packages\\pandas\\core\\frame.py\u001b[0m in \u001b[0;36m__init__\u001b[1;34m(self, data, index, columns, dtype, copy)\u001b[0m\n\u001b[0;32m    527\u001b[0m \u001b[1;33m\u001b[0m\u001b[0m\n\u001b[0;32m    528\u001b[0m         \u001b[1;32melif\u001b[0m \u001b[0misinstance\u001b[0m\u001b[1;33m(\u001b[0m\u001b[0mdata\u001b[0m\u001b[1;33m,\u001b[0m \u001b[0mdict\u001b[0m\u001b[1;33m)\u001b[0m\u001b[1;33m:\u001b[0m\u001b[1;33m\u001b[0m\u001b[1;33m\u001b[0m\u001b[0m\n\u001b[1;32m--> 529\u001b[1;33m             \u001b[0mmgr\u001b[0m \u001b[1;33m=\u001b[0m \u001b[0minit_dict\u001b[0m\u001b[1;33m(\u001b[0m\u001b[0mdata\u001b[0m\u001b[1;33m,\u001b[0m \u001b[0mindex\u001b[0m\u001b[1;33m,\u001b[0m \u001b[0mcolumns\u001b[0m\u001b[1;33m,\u001b[0m \u001b[0mdtype\u001b[0m\u001b[1;33m=\u001b[0m\u001b[0mdtype\u001b[0m\u001b[1;33m)\u001b[0m\u001b[1;33m\u001b[0m\u001b[1;33m\u001b[0m\u001b[0m\n\u001b[0m\u001b[0;32m    530\u001b[0m         \u001b[1;32melif\u001b[0m \u001b[0misinstance\u001b[0m\u001b[1;33m(\u001b[0m\u001b[0mdata\u001b[0m\u001b[1;33m,\u001b[0m \u001b[0mma\u001b[0m\u001b[1;33m.\u001b[0m\u001b[0mMaskedArray\u001b[0m\u001b[1;33m)\u001b[0m\u001b[1;33m:\u001b[0m\u001b[1;33m\u001b[0m\u001b[1;33m\u001b[0m\u001b[0m\n\u001b[0;32m    531\u001b[0m             \u001b[1;32mimport\u001b[0m \u001b[0mnumpy\u001b[0m\u001b[1;33m.\u001b[0m\u001b[0mma\u001b[0m\u001b[1;33m.\u001b[0m\u001b[0mmrecords\u001b[0m \u001b[1;32mas\u001b[0m \u001b[0mmrecords\u001b[0m\u001b[1;33m\u001b[0m\u001b[1;33m\u001b[0m\u001b[0m\n",
      "\u001b[1;32mC:\\Anaconda\\lib\\site-packages\\pandas\\core\\internals\\construction.py\u001b[0m in \u001b[0;36minit_dict\u001b[1;34m(data, index, columns, dtype)\u001b[0m\n\u001b[0;32m    285\u001b[0m             \u001b[0marr\u001b[0m \u001b[1;32mif\u001b[0m \u001b[1;32mnot\u001b[0m \u001b[0mis_datetime64tz_dtype\u001b[0m\u001b[1;33m(\u001b[0m\u001b[0marr\u001b[0m\u001b[1;33m)\u001b[0m \u001b[1;32melse\u001b[0m \u001b[0marr\u001b[0m\u001b[1;33m.\u001b[0m\u001b[0mcopy\u001b[0m\u001b[1;33m(\u001b[0m\u001b[1;33m)\u001b[0m \u001b[1;32mfor\u001b[0m \u001b[0marr\u001b[0m \u001b[1;32min\u001b[0m \u001b[0marrays\u001b[0m\u001b[1;33m\u001b[0m\u001b[1;33m\u001b[0m\u001b[0m\n\u001b[0;32m    286\u001b[0m         ]\n\u001b[1;32m--> 287\u001b[1;33m     \u001b[1;32mreturn\u001b[0m \u001b[0marrays_to_mgr\u001b[0m\u001b[1;33m(\u001b[0m\u001b[0marrays\u001b[0m\u001b[1;33m,\u001b[0m \u001b[0mdata_names\u001b[0m\u001b[1;33m,\u001b[0m \u001b[0mindex\u001b[0m\u001b[1;33m,\u001b[0m \u001b[0mcolumns\u001b[0m\u001b[1;33m,\u001b[0m \u001b[0mdtype\u001b[0m\u001b[1;33m=\u001b[0m\u001b[0mdtype\u001b[0m\u001b[1;33m)\u001b[0m\u001b[1;33m\u001b[0m\u001b[1;33m\u001b[0m\u001b[0m\n\u001b[0m\u001b[0;32m    288\u001b[0m \u001b[1;33m\u001b[0m\u001b[0m\n\u001b[0;32m    289\u001b[0m \u001b[1;33m\u001b[0m\u001b[0m\n",
      "\u001b[1;32mC:\\Anaconda\\lib\\site-packages\\pandas\\core\\internals\\construction.py\u001b[0m in \u001b[0;36marrays_to_mgr\u001b[1;34m(arrays, arr_names, index, columns, dtype, verify_integrity)\u001b[0m\n\u001b[0;32m     78\u001b[0m         \u001b[1;31m# figure out the index, if necessary\u001b[0m\u001b[1;33m\u001b[0m\u001b[1;33m\u001b[0m\u001b[1;33m\u001b[0m\u001b[0m\n\u001b[0;32m     79\u001b[0m         \u001b[1;32mif\u001b[0m \u001b[0mindex\u001b[0m \u001b[1;32mis\u001b[0m \u001b[1;32mNone\u001b[0m\u001b[1;33m:\u001b[0m\u001b[1;33m\u001b[0m\u001b[1;33m\u001b[0m\u001b[0m\n\u001b[1;32m---> 80\u001b[1;33m             \u001b[0mindex\u001b[0m \u001b[1;33m=\u001b[0m \u001b[0mextract_index\u001b[0m\u001b[1;33m(\u001b[0m\u001b[0marrays\u001b[0m\u001b[1;33m)\u001b[0m\u001b[1;33m\u001b[0m\u001b[1;33m\u001b[0m\u001b[0m\n\u001b[0m\u001b[0;32m     81\u001b[0m         \u001b[1;32melse\u001b[0m\u001b[1;33m:\u001b[0m\u001b[1;33m\u001b[0m\u001b[1;33m\u001b[0m\u001b[0m\n\u001b[0;32m     82\u001b[0m             \u001b[0mindex\u001b[0m \u001b[1;33m=\u001b[0m \u001b[0mensure_index\u001b[0m\u001b[1;33m(\u001b[0m\u001b[0mindex\u001b[0m\u001b[1;33m)\u001b[0m\u001b[1;33m\u001b[0m\u001b[1;33m\u001b[0m\u001b[0m\n",
      "\u001b[1;32mC:\\Anaconda\\lib\\site-packages\\pandas\\core\\internals\\construction.py\u001b[0m in \u001b[0;36mextract_index\u001b[1;34m(data)\u001b[0m\n\u001b[0;32m    399\u001b[0m             \u001b[0mlengths\u001b[0m \u001b[1;33m=\u001b[0m \u001b[0mlist\u001b[0m\u001b[1;33m(\u001b[0m\u001b[0mset\u001b[0m\u001b[1;33m(\u001b[0m\u001b[0mraw_lengths\u001b[0m\u001b[1;33m)\u001b[0m\u001b[1;33m)\u001b[0m\u001b[1;33m\u001b[0m\u001b[1;33m\u001b[0m\u001b[0m\n\u001b[0;32m    400\u001b[0m             \u001b[1;32mif\u001b[0m \u001b[0mlen\u001b[0m\u001b[1;33m(\u001b[0m\u001b[0mlengths\u001b[0m\u001b[1;33m)\u001b[0m \u001b[1;33m>\u001b[0m \u001b[1;36m1\u001b[0m\u001b[1;33m:\u001b[0m\u001b[1;33m\u001b[0m\u001b[1;33m\u001b[0m\u001b[0m\n\u001b[1;32m--> 401\u001b[1;33m                 \u001b[1;32mraise\u001b[0m \u001b[0mValueError\u001b[0m\u001b[1;33m(\u001b[0m\u001b[1;34m\"arrays must all be same length\"\u001b[0m\u001b[1;33m)\u001b[0m\u001b[1;33m\u001b[0m\u001b[1;33m\u001b[0m\u001b[0m\n\u001b[0m\u001b[0;32m    402\u001b[0m \u001b[1;33m\u001b[0m\u001b[0m\n\u001b[0;32m    403\u001b[0m             \u001b[1;32mif\u001b[0m \u001b[0mhave_dicts\u001b[0m\u001b[1;33m:\u001b[0m\u001b[1;33m\u001b[0m\u001b[1;33m\u001b[0m\u001b[0m\n",
      "\u001b[1;31mValueError\u001b[0m: arrays must all be same length"
     ]
    }
   ],
   "source": [
    "dict1 = {'zeros': np.zeros(10,'int'),\n",
    "        'ones': np.ones(10,'int'),\n",
    "        'arange': np.arange(11,21),\n",
    "        'linspace': np.linspace(11,60)}\n",
    "df = pd.DataFrame(dict1)\n",
    "df"
   ]
  },
  {
   "cell_type": "code",
   "execution_count": 17,
   "id": "09732045",
   "metadata": {},
   "outputs": [
    {
     "data": {
      "text/plain": [
       "{10, 20, 30}"
      ]
     },
     "execution_count": 17,
     "metadata": {},
     "output_type": "execute_result"
    }
   ],
   "source": [
    "a = [10,20,30,10,20,30]\n",
    "b = set(a)\n",
    "b"
   ]
  },
  {
   "cell_type": "code",
   "execution_count": 22,
   "id": "e15cc3af",
   "metadata": {},
   "outputs": [
    {
     "ename": "TypeError",
     "evalue": "'list' object is not callable",
     "output_type": "error",
     "traceback": [
      "\u001b[1;31m---------------------------------------------------------------------------\u001b[0m",
      "\u001b[1;31mTypeError\u001b[0m                                 Traceback (most recent call last)",
      "\u001b[1;32m<ipython-input-22-beb11f5c0382>\u001b[0m in \u001b[0;36m<module>\u001b[1;34m\u001b[0m\n\u001b[1;32m----> 1\u001b[1;33m \u001b[0mc\u001b[0m \u001b[1;33m=\u001b[0m \u001b[0mlist\u001b[0m\u001b[1;33m(\u001b[0m\u001b[0mb\u001b[0m\u001b[1;33m)\u001b[0m\u001b[1;33m\u001b[0m\u001b[1;33m\u001b[0m\u001b[0m\n\u001b[0m\u001b[0;32m      2\u001b[0m \u001b[0mc\u001b[0m\u001b[1;33m\u001b[0m\u001b[1;33m\u001b[0m\u001b[0m\n",
      "\u001b[1;31mTypeError\u001b[0m: 'list' object is not callable"
     ]
    }
   ],
   "source": [
    "c = list(b)\n",
    "c"
   ]
  },
  {
   "cell_type": "code",
   "execution_count": 25,
   "id": "fc30c517",
   "metadata": {},
   "outputs": [
    {
     "ename": "TypeError",
     "evalue": "'list' object is not callable",
     "output_type": "error",
     "traceback": [
      "\u001b[1;31m---------------------------------------------------------------------------\u001b[0m",
      "\u001b[1;31mTypeError\u001b[0m                                 Traceback (most recent call last)",
      "\u001b[1;32m<ipython-input-25-9b8e81a3e444>\u001b[0m in \u001b[0;36m<module>\u001b[1;34m\u001b[0m\n\u001b[0;32m      1\u001b[0m \u001b[0mset_sample\u001b[0m \u001b[1;33m=\u001b[0m \u001b[1;33m{\u001b[0m \u001b[1;36m4\u001b[0m\u001b[1;33m,\u001b[0m \u001b[1;34m\"hello\"\u001b[0m \u001b[1;33m,\u001b[0m \u001b[1;36m9\u001b[0m \u001b[1;33m,\u001b[0m \u001b[1;36m8.9\u001b[0m \u001b[1;33m}\u001b[0m\u001b[1;33m\u001b[0m\u001b[1;33m\u001b[0m\u001b[0m\n\u001b[1;32m----> 2\u001b[1;33m \u001b[0mset_list\u001b[0m \u001b[1;33m=\u001b[0m \u001b[0mlist\u001b[0m \u001b[1;33m(\u001b[0m\u001b[0mset_sample\u001b[0m\u001b[1;33m)\u001b[0m\u001b[1;33m\u001b[0m\u001b[1;33m\u001b[0m\u001b[0m\n\u001b[0m\u001b[0;32m      3\u001b[0m \u001b[0mprint\u001b[0m \u001b[1;33m(\u001b[0m\u001b[0mset_list\u001b[0m\u001b[1;33m)\u001b[0m\u001b[1;33m\u001b[0m\u001b[1;33m\u001b[0m\u001b[0m\n",
      "\u001b[1;31mTypeError\u001b[0m: 'list' object is not callable"
     ]
    }
   ],
   "source": [
    "set_sample = { 4, \"hello\" , 9 , 8.9 }\n",
    "set_list = list (set_sample)\n",
    "print (set_list)"
   ]
  },
  {
   "cell_type": "code",
   "execution_count": 28,
   "id": "fed5cbd4",
   "metadata": {},
   "outputs": [
    {
     "ename": "TypeError",
     "evalue": "'list' object is not callable",
     "output_type": "error",
     "traceback": [
      "\u001b[1;31m---------------------------------------------------------------------------\u001b[0m",
      "\u001b[1;31mTypeError\u001b[0m                                 Traceback (most recent call last)",
      "\u001b[1;32m<ipython-input-28-385b44990f03>\u001b[0m in \u001b[0;36m<module>\u001b[1;34m\u001b[0m\n\u001b[0;32m      3\u001b[0m \u001b[0mn1\u001b[0m \u001b[1;33m=\u001b[0m \u001b[0mitertools\u001b[0m\u001b[1;33m.\u001b[0m\u001b[0mchain\u001b[0m\u001b[1;33m.\u001b[0m\u001b[0mfrom_iterable\u001b[0m\u001b[1;33m(\u001b[0m\u001b[0ma\u001b[0m\u001b[1;33m)\u001b[0m\u001b[1;33m\u001b[0m\u001b[1;33m\u001b[0m\u001b[0m\n\u001b[0;32m      4\u001b[0m \u001b[0mn1\u001b[0m\u001b[1;33m\u001b[0m\u001b[1;33m\u001b[0m\u001b[0m\n\u001b[1;32m----> 5\u001b[1;33m \u001b[0mprint\u001b[0m\u001b[1;33m(\u001b[0m\u001b[0mlist\u001b[0m\u001b[1;33m(\u001b[0m\u001b[0mn1\u001b[0m\u001b[1;33m)\u001b[0m\u001b[1;33m)\u001b[0m\u001b[1;33m\u001b[0m\u001b[1;33m\u001b[0m\u001b[0m\n\u001b[0m",
      "\u001b[1;31mTypeError\u001b[0m: 'list' object is not callable"
     ]
    }
   ],
   "source": [
    "import itertools\n",
    "a = [[1,2,3],[4,5,6]]\n",
    "n1 = itertools.chain.from_iterable(a)\n",
    "n1\n",
    "print(list(n1))"
   ]
  },
  {
   "cell_type": "code",
   "execution_count": null,
   "id": "eb88cdb0",
   "metadata": {},
   "outputs": [],
   "source": []
  }
 ],
 "metadata": {
  "kernelspec": {
   "display_name": "Python 3",
   "language": "python",
   "name": "python3"
  },
  "language_info": {
   "codemirror_mode": {
    "name": "ipython",
    "version": 3
   },
   "file_extension": ".py",
   "mimetype": "text/x-python",
   "name": "python",
   "nbconvert_exporter": "python",
   "pygments_lexer": "ipython3",
   "version": "3.8.8"
  }
 },
 "nbformat": 4,
 "nbformat_minor": 5
}
